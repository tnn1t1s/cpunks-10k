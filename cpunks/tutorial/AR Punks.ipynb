{
 "cells": [
  {
   "cell_type": "markdown",
   "id": "e4edaeeb",
   "metadata": {},
   "source": [
    "# AR Punks\n",
    "Using an Auto Encoder to generate new punks from old"
   ]
  },
  {
   "cell_type": "code",
   "execution_count": 2,
   "id": "94a1c998",
   "metadata": {},
   "outputs": [],
   "source": [
    "import sys\n",
    "sys.path.append('..')\n",
    "\n",
    "import numpy as np\n",
    "import pandas as pd\n",
    "import pickle\n",
    "import matplotlib.image as mpimg\n",
    "import matplotlib.pyplot as plt\n",
    "\n",
    "%matplotlib inline\n",
    "plt.style.use('default')\n",
    "from matplotlib.colors import rgb2hex\n",
    "import matplotlib.pyplot as plt\n",
    "from mpl_toolkits.axes_grid1 import ImageGrid\n",
    "\n",
    "import cpunks.cpunks10k as cpunks10k\n",
    "import cpunks.utils as cputils"
   ]
  },
  {
   "cell_type": "code",
   "execution_count": 19,
   "id": "78ce8a7b",
   "metadata": {},
   "outputs": [],
   "source": [
    "from tensorflow.keras.layers import Input, Conv2D, Flatten, Dense, Conv2DTranspose, Reshape, Lambda, Activation, BatchNormalization, LeakyReLU, Dropout\n",
    "from tensorflow.keras.models import Model\n",
    "from tensorflow.keras import backend as K\n",
    "from tensorflow.keras.optimizers import Adam"
   ]
  },
  {
   "cell_type": "code",
   "execution_count": 37,
   "id": "2d3765ed",
   "metadata": {},
   "outputs": [],
   "source": [
    "cp = cpunks10k.cpunks10k()\n",
    "(X_train, Y_train), (X_test, Y_test), (labels) = cp.load_data()\n",
    "X = np.concatenate((X_train, X_test), axis=0)\n",
    "df = cp.punks_df"
   ]
  },
  {
   "cell_type": "code",
   "execution_count": 38,
   "id": "c4cf8b98",
   "metadata": {},
   "outputs": [
    {
     "data": {
      "text/plain": [
       "(9000, 24, 24, 4)"
      ]
     },
     "execution_count": 38,
     "metadata": {},
     "output_type": "execute_result"
    }
   ],
   "source": [
    "X_train.shape"
   ]
  },
  {
   "cell_type": "markdown",
   "id": "9c19ee1e",
   "metadata": {},
   "source": [
    "### meta parameters"
   ]
  },
  {
   "cell_type": "code",
   "execution_count": 14,
   "id": "50e4aa6f",
   "metadata": {},
   "outputs": [],
   "source": [
    "class ContextManager(dict):\n",
    "    \"\"\"dot.notation access to dictionary attributes\"\"\"\n",
    "    __getattr__ = dict.get\n",
    "    __setattr__ = dict.__setitem__\n",
    "    __delattr__ = dict.__delitem__\n"
   ]
  },
  {
   "cell_type": "code",
   "execution_count": 29,
   "id": "08d7d405",
   "metadata": {},
   "outputs": [],
   "source": [
    "def r_loss(y_true, y_pred):\n",
    "            return K.mean(K.square(y_true - y_pred), axis = [1,2,3])"
   ]
  },
  {
   "cell_type": "code",
   "execution_count": null,
   "id": "fb212b80",
   "metadata": {},
   "outputs": [],
   "source": [
    "ctx = ContextManager({})\n",
    "ctx.r_loss = r_loss"
   ]
  },
  {
   "cell_type": "code",
   "execution_count": 15,
   "id": "c59e554b",
   "metadata": {},
   "outputs": [],
   "source": [
    "ctx.learning_rate = 0.0005\n",
    "ctx.batch_size = 32\n",
    "ctx.initial_epoch = 0"
   ]
  },
  {
   "cell_type": "code",
   "execution_count": 41,
   "id": "ab638c0c",
   "metadata": {},
   "outputs": [],
   "source": [
    "ctx.input_dim = (24, 24, 4)\n",
    "ctx.encoder_conv_filters = [32, 64, 64, 64]\n",
    "ctx.encoder_conv_kernel_size = [3,3,3,3]\n",
    "ctx.encoder_conv_strides = [1,2,2,1]\n",
    "ctx.decoder_conv_t_filters = [64,64,32,4]\n",
    "ctx.decoder_conv_t_kernel_size = [3,3,3,3]\n",
    "ctx.decoder_conv_t_strides = [1,2,2,1]\n",
    "ctx.z_dim = 4\n",
    "ctx.n_layers_encoder = len(encoder_conv_filters)\n",
    "ctx.n_layers_decoder = len(decoder_conv_t_filters)\n"
   ]
  },
  {
   "cell_type": "code",
   "execution_count": 51,
   "id": "370e39dc",
   "metadata": {},
   "outputs": [],
   "source": [
    "encoder_input = Input(shape=ctx.input_dim, \n",
    "                      name='encoder_input')\n",
    "\n",
    "x = encoder_input\n",
    "\n",
    "for i in range(n_layers_encoder):\n",
    "    conv_layer = Conv2D(filters = ctx.encoder_conv_filters[i],\n",
    "                        kernel_size = ctx.encoder_conv_kernel_size[i],\n",
    "                        strides = ctx.encoder_conv_strides[i],\n",
    "                        padding = 'same',\n",
    "                        name = 'encoder_conv_' + str(i))\n",
    "    x = conv_layer(x)\n",
    "    x = LeakyReLU()(x)\n",
    "    #x = BatchNormalization()(x)\n",
    "    #x = Dropout(rate = 0.25)(x)\n",
    "    \n",
    "shape_before_flattening = K.int_shape(x)[1:]\n",
    "x = Flatten()(x)\n",
    "encoder_output= Dense(ctx.z_dim, name='encoder_output')(x)\n",
    "encoder = Model(encoder_input, encoder_output)\n"
   ]
  },
  {
   "cell_type": "markdown",
   "id": "136f1616",
   "metadata": {},
   "source": [
    "### The Decoder"
   ]
  },
  {
   "cell_type": "code",
   "execution_count": 53,
   "id": "dc3f5e48",
   "metadata": {},
   "outputs": [],
   "source": [
    "decoder_input = Input(shape=(ctx.z_dim,), name='decoder_input')\n",
    "\n",
    "x = Dense(np.prod(shape_before_flattening))(decoder_input)\n",
    "x = Reshape(shape_before_flattening)(x)\n",
    "\n",
    "for i in range(ctx.n_layers_decoder):\n",
    "    conv_t_layer = Conv2DTranspose(filters = ctx.decoder_conv_t_filters[i],\n",
    "                                   kernel_size = ctx.decoder_conv_t_kernel_size[i],\n",
    "                                   strides = ctx.decoder_conv_t_strides[i],\n",
    "                                   padding = 'same',\n",
    "                                   name = 'decoder_conv_t_' + str(i))\n",
    "    x = conv_t_layer(x)\n",
    "    if i < ctx.n_layers_decoder - 1:\n",
    "        x = LeakyReLU()(x)\n",
    "        #x = BatchNormalization()(x)\n",
    "        #x = Dropout(rate = 0.25)(x)\n",
    "    else:\n",
    "        x = Activation('sigmoid')(x)\n",
    "\n",
    "decoder_output = x\n",
    "decoder = Model(decoder_input, decoder_output)\n"
   ]
  },
  {
   "cell_type": "markdown",
   "id": "b7dc310c",
   "metadata": {},
   "source": [
    "### Combine to Build the Autoencoder"
   ]
  },
  {
   "cell_type": "code",
   "execution_count": 54,
   "id": "f9715f29",
   "metadata": {},
   "outputs": [],
   "source": [
    "model_input = encoder_input\n",
    "model_output = decoder(encoder_output)\n",
    "\n",
    "model = Model(model_input, model_output)\n"
   ]
  },
  {
   "cell_type": "markdown",
   "id": "47f38faa",
   "metadata": {},
   "source": [
    "### Compile"
   ]
  },
  {
   "cell_type": "code",
   "execution_count": 55,
   "id": "77949bef",
   "metadata": {},
   "outputs": [],
   "source": [
    "def r_loss(y_true, y_pred):\n",
    "            return K.mean(K.square(y_true - y_pred), axis = [1,2,3])"
   ]
  },
  {
   "cell_type": "code",
   "execution_count": 56,
   "id": "f57f32bf",
   "metadata": {},
   "outputs": [],
   "source": [
    "optimizer = Adam(lr=learning_rate)\n",
    "model.compile(optimizer=optimizer, loss = r_loss)"
   ]
  },
  {
   "cell_type": "markdown",
   "id": "d8d50a8d",
   "metadata": {},
   "source": [
    "### Train"
   ]
  },
  {
   "cell_type": "code",
   "execution_count": 28,
   "id": "3273ae6d",
   "metadata": {},
   "outputs": [],
   "source": [
    "from tensorflow.keras.callbacks import Callback, LearningRateScheduler"
   ]
  },
  {
   "cell_type": "code",
   "execution_count": 27,
   "id": "40873bd4",
   "metadata": {},
   "outputs": [],
   "source": [
    "def step_decay_schedule(initial_lr, decay_factor=0.5, step_size=1):\n",
    "    '''\n",
    "    Wrapper function to create a LearningRateScheduler with step decay schedule.\n",
    "    '''\n",
    "    def schedule(epoch):\n",
    "        new_lr = initial_lr * (decay_factor ** np.floor(epoch/step_size))\n",
    "\n",
    "        return new_lr\n",
    "\n",
    "    return LearningRateScheduler(schedule)\n",
    "\n",
    "\n"
   ]
  },
  {
   "cell_type": "code",
   "execution_count": 71,
   "id": "fdf874ec",
   "metadata": {},
   "outputs": [
    {
     "name": "stdout",
     "output_type": "stream",
     "text": [
      "Epoch 1/160\n",
      "282/282 [==============================] - 26s 92ms/step - loss: 0.0097\n",
      "Epoch 2/160\n",
      "282/282 [==============================] - 26s 93ms/step - loss: 0.0096\n",
      "Epoch 3/160\n",
      "282/282 [==============================] - 26s 93ms/step - loss: 0.0095\n",
      "Epoch 4/160\n",
      "282/282 [==============================] - 27s 95ms/step - loss: 0.0094\n",
      "Epoch 5/160\n",
      "282/282 [==============================] - 27s 96ms/step - loss: 0.0093\n",
      "Epoch 6/160\n",
      "282/282 [==============================] - 28s 99ms/step - loss: 0.0092\n",
      "Epoch 7/160\n",
      "282/282 [==============================] - 27s 95ms/step - loss: 0.0091\n",
      "Epoch 8/160\n",
      "282/282 [==============================] - 28s 98ms/step - loss: 0.0090\n",
      "Epoch 9/160\n",
      "282/282 [==============================] - 27s 97ms/step - loss: 0.0088\n",
      "Epoch 10/160\n",
      "282/282 [==============================] - 27s 95ms/step - loss: 0.0086\n",
      "Epoch 11/160\n",
      "282/282 [==============================] - 26s 92ms/step - loss: 0.0085\n",
      "Epoch 12/160\n",
      "282/282 [==============================] - 27s 95ms/step - loss: 0.0084\n",
      "Epoch 13/160\n",
      "282/282 [==============================] - 26s 93ms/step - loss: 0.0082\n",
      "Epoch 14/160\n",
      "282/282 [==============================] - 28s 98ms/step - loss: 0.0081\n",
      "Epoch 15/160\n",
      "282/282 [==============================] - 27s 97ms/step - loss: 0.0080\n",
      "Epoch 16/160\n",
      "282/282 [==============================] - 28s 98ms/step - loss: 0.0080\n",
      "Epoch 17/160\n",
      "282/282 [==============================] - 27s 94ms/step - loss: 0.0078\n",
      "Epoch 18/160\n",
      "282/282 [==============================] - 27s 94ms/step - loss: 0.0077\n",
      "Epoch 19/160\n",
      "282/282 [==============================] - 28s 98ms/step - loss: 0.0077\n",
      "Epoch 20/160\n",
      "282/282 [==============================] - 28s 98ms/step - loss: 0.0076\n",
      "Epoch 21/160\n",
      "282/282 [==============================] - 27s 95ms/step - loss: 0.0075\n",
      "Epoch 22/160\n",
      "282/282 [==============================] - 27s 97ms/step - loss: 0.0074\n",
      "Epoch 23/160\n",
      "282/282 [==============================] - 28s 99ms/step - loss: 0.0074\n",
      "Epoch 24/160\n",
      "282/282 [==============================] - 27s 97ms/step - loss: 0.0073\n",
      "Epoch 25/160\n",
      "282/282 [==============================] - 27s 95ms/step - loss: 0.0073\n",
      "Epoch 26/160\n",
      "282/282 [==============================] - 27s 96ms/step - loss: 0.0072\n",
      "Epoch 27/160\n",
      "282/282 [==============================] - 28s 99ms/step - loss: 0.0071\n",
      "Epoch 28/160\n",
      "282/282 [==============================] - 28s 100ms/step - loss: 0.0071\n",
      "Epoch 29/160\n",
      "282/282 [==============================] - 27s 97ms/step - loss: 0.0070\n",
      "Epoch 30/160\n",
      "282/282 [==============================] - 27s 96ms/step - loss: 0.0070\n",
      "Epoch 31/160\n",
      "282/282 [==============================] - 28s 100ms/step - loss: 0.0069\n",
      "Epoch 32/160\n",
      "282/282 [==============================] - 27s 97ms/step - loss: 0.0069\n",
      "Epoch 33/160\n",
      "282/282 [==============================] - 28s 99ms/step - loss: 0.0068\n",
      "Epoch 34/160\n",
      "282/282 [==============================] - 29s 102ms/step - loss: 0.0067\n",
      "Epoch 35/160\n",
      "282/282 [==============================] - 28s 99ms/step - loss: 0.0067\n",
      "Epoch 36/160\n",
      "282/282 [==============================] - 28s 101ms/step - loss: 0.0066\n",
      "Epoch 37/160\n",
      "282/282 [==============================] - 29s 102ms/step - loss: 0.0066\n",
      "Epoch 38/160\n",
      "282/282 [==============================] - 27s 96ms/step - loss: 0.0065\n",
      "Epoch 39/160\n",
      "282/282 [==============================] - 29s 101ms/step - loss: 0.0065\n",
      "Epoch 40/160\n",
      "282/282 [==============================] - 28s 98ms/step - loss: 0.0065\n",
      "Epoch 41/160\n",
      "282/282 [==============================] - 28s 100ms/step - loss: 0.0064\n",
      "Epoch 42/160\n",
      "282/282 [==============================] - 28s 98ms/step - loss: 0.0063\n",
      "Epoch 43/160\n",
      "282/282 [==============================] - 27s 96ms/step - loss: 0.0063\n",
      "Epoch 44/160\n",
      "282/282 [==============================] - 28s 99ms/step - loss: 0.0062\n",
      "Epoch 45/160\n",
      "282/282 [==============================] - 27s 95ms/step - loss: 0.0062\n",
      "Epoch 46/160\n",
      "282/282 [==============================] - 28s 98ms/step - loss: 0.0061\n",
      "Epoch 47/160\n",
      "282/282 [==============================] - 28s 100ms/step - loss: 0.0061\n",
      "Epoch 48/160\n",
      "282/282 [==============================] - 27s 97ms/step - loss: 0.0061\n",
      "Epoch 49/160\n",
      "282/282 [==============================] - 28s 98ms/step - loss: 0.0061\n",
      "Epoch 50/160\n",
      "282/282 [==============================] - 28s 99ms/step - loss: 0.0061\n",
      "Epoch 51/160\n",
      "282/282 [==============================] - 27s 94ms/step - loss: 0.0060\n",
      "Epoch 52/160\n",
      "282/282 [==============================] - 27s 97ms/step - loss: 0.0060\n",
      "Epoch 53/160\n",
      "282/282 [==============================] - 26s 93ms/step - loss: 0.0060\n",
      "Epoch 54/160\n",
      "282/282 [==============================] - 27s 95ms/step - loss: 0.0059\n",
      "Epoch 55/160\n",
      "282/282 [==============================] - 28s 98ms/step - loss: 0.0059\n",
      "Epoch 56/160\n",
      "282/282 [==============================] - 27s 96ms/step - loss: 0.0059\n",
      "Epoch 57/160\n",
      "282/282 [==============================] - 28s 99ms/step - loss: 0.0059\n",
      "Epoch 58/160\n",
      "282/282 [==============================] - 27s 96ms/step - loss: 0.0058\n",
      "Epoch 59/160\n",
      "282/282 [==============================] - 26s 94ms/step - loss: 0.0058\n",
      "Epoch 60/160\n",
      "282/282 [==============================] - 27s 96ms/step - loss: 0.0058\n",
      "Epoch 61/160\n",
      "282/282 [==============================] - 28s 98ms/step - loss: 0.0057\n",
      "Epoch 62/160\n",
      "282/282 [==============================] - 26s 92ms/step - loss: 0.0057\n",
      "Epoch 63/160\n",
      "282/282 [==============================] - 26s 94ms/step - loss: 0.0057\n",
      "Epoch 64/160\n",
      "282/282 [==============================] - 26s 94ms/step - loss: 0.0057\n",
      "Epoch 65/160\n",
      "282/282 [==============================] - 27s 95ms/step - loss: 0.0057\n",
      "Epoch 66/160\n",
      "282/282 [==============================] - 23s 80ms/step - loss: 0.0056\n",
      "Epoch 67/160\n",
      "282/282 [==============================] - 19s 66ms/step - loss: 0.0056\n",
      "Epoch 68/160\n",
      "282/282 [==============================] - 14s 49ms/step - loss: 0.0056\n",
      "Epoch 69/160\n",
      "282/282 [==============================] - 21s 75ms/step - loss: 0.0056\n",
      "Epoch 70/160\n",
      "282/282 [==============================] - 24s 85ms/step - loss: 0.0055\n",
      "Epoch 71/160\n",
      "282/282 [==============================] - 25s 88ms/step - loss: 0.0056\n",
      "Epoch 72/160\n",
      "282/282 [==============================] - 18s 65ms/step - loss: 0.0055\n",
      "Epoch 73/160\n",
      "282/282 [==============================] - 14s 49ms/step - loss: 0.0055\n",
      "Epoch 74/160\n",
      "282/282 [==============================] - 14s 50ms/step - loss: 0.0055\n",
      "Epoch 75/160\n",
      "282/282 [==============================] - 14s 48ms/step - loss: 0.0054\n",
      "Epoch 76/160\n",
      "282/282 [==============================] - 16s 58ms/step - loss: 0.0054\n",
      "Epoch 77/160\n",
      "282/282 [==============================] - 14s 48ms/step - loss: 0.0054\n",
      "Epoch 78/160\n",
      "282/282 [==============================] - 14s 48ms/step - loss: 0.0054\n",
      "Epoch 79/160\n",
      "282/282 [==============================] - 14s 48ms/step - loss: 0.0054\n",
      "Epoch 80/160\n",
      "282/282 [==============================] - 14s 48ms/step - loss: 0.0054\n",
      "Epoch 81/160\n",
      "282/282 [==============================] - 22s 76ms/step - loss: 0.0053\n",
      "Epoch 82/160\n",
      "282/282 [==============================] - 19s 68ms/step - loss: 0.0053\n",
      "Epoch 83/160\n",
      "282/282 [==============================] - 23s 82ms/step - loss: 0.0053\n",
      "Epoch 84/160\n",
      "282/282 [==============================] - 14s 51ms/step - loss: 0.0052\n",
      "Epoch 85/160\n",
      "282/282 [==============================] - 13s 47ms/step - loss: 0.0053\n",
      "Epoch 86/160\n",
      "282/282 [==============================] - 15s 55ms/step - loss: 0.0053\n",
      "Epoch 87/160\n",
      "282/282 [==============================] - 25s 88ms/step - loss: 0.0052\n",
      "Epoch 88/160\n",
      "282/282 [==============================] - 14s 51ms/step - loss: 0.0053\n",
      "Epoch 89/160\n",
      "282/282 [==============================] - 14s 48ms/step - loss: 0.0052\n",
      "Epoch 90/160\n",
      "282/282 [==============================] - 14s 48ms/step - loss: 0.0052\n",
      "Epoch 91/160\n",
      "282/282 [==============================] - 14s 48ms/step - loss: 0.0052\n",
      "Epoch 92/160\n",
      "282/282 [==============================] - 14s 49ms/step - loss: 0.0051\n",
      "Epoch 93/160\n",
      "282/282 [==============================] - 14s 49ms/step - loss: 0.0051\n",
      "Epoch 94/160\n",
      "282/282 [==============================] - 14s 49ms/step - loss: 0.0051\n",
      "Epoch 95/160\n",
      "282/282 [==============================] - 16s 57ms/step - loss: 0.0051\n",
      "Epoch 96/160\n",
      "282/282 [==============================] - 14s 49ms/step - loss: 0.0051\n",
      "Epoch 97/160\n"
     ]
    },
    {
     "name": "stdout",
     "output_type": "stream",
     "text": [
      "282/282 [==============================] - 14s 48ms/step - loss: 0.0050\n",
      "Epoch 98/160\n",
      "282/282 [==============================] - 14s 48ms/step - loss: 0.0051\n",
      "Epoch 99/160\n",
      "282/282 [==============================] - 14s 51ms/step - loss: 0.0050\n",
      "Epoch 100/160\n",
      "282/282 [==============================] - 14s 51ms/step - loss: 0.0050\n",
      "Epoch 101/160\n",
      "282/282 [==============================] - 14s 49ms/step - loss: 0.0050\n",
      "Epoch 102/160\n",
      "282/282 [==============================] - 14s 48ms/step - loss: 0.0050\n",
      "Epoch 103/160\n",
      "282/282 [==============================] - 14s 48ms/step - loss: 0.0050\n",
      "Epoch 104/160\n",
      "282/282 [==============================] - 14s 50ms/step - loss: 0.0050\n",
      "Epoch 105/160\n",
      "282/282 [==============================] - 14s 49ms/step - loss: 0.0050\n",
      "Epoch 106/160\n",
      "282/282 [==============================] - 14s 48ms/step - loss: 0.0050\n",
      "Epoch 107/160\n",
      "282/282 [==============================] - 14s 48ms/step - loss: 0.0049\n",
      "Epoch 108/160\n",
      "282/282 [==============================] - 14s 48ms/step - loss: 0.0049\n",
      "Epoch 109/160\n",
      "282/282 [==============================] - 14s 48ms/step - loss: 0.0049\n",
      "Epoch 110/160\n",
      "282/282 [==============================] - 14s 48ms/step - loss: 0.0049\n",
      "Epoch 111/160\n",
      "282/282 [==============================] - 14s 48ms/step - loss: 0.0049\n",
      "Epoch 112/160\n",
      "282/282 [==============================] - 20s 69ms/step - loss: 0.0049\n",
      "Epoch 113/160\n",
      "282/282 [==============================] - 25s 88ms/step - loss: 0.0049\n",
      "Epoch 114/160\n",
      "282/282 [==============================] - 24s 87ms/step - loss: 0.0049\n",
      "Epoch 115/160\n",
      "282/282 [==============================] - 25s 87ms/step - loss: 0.0049\n",
      "Epoch 116/160\n",
      "282/282 [==============================] - 24s 87ms/step - loss: 0.0049\n",
      "Epoch 117/160\n",
      "282/282 [==============================] - 17s 60ms/step - loss: 0.0048\n",
      "Epoch 118/160\n",
      "282/282 [==============================] - 19s 66ms/step - loss: 0.0048\n",
      "Epoch 119/160\n",
      "282/282 [==============================] - 22s 78ms/step - loss: 0.0049\n",
      "Epoch 120/160\n",
      "282/282 [==============================] - 16s 58ms/step - loss: 0.0048\n",
      "Epoch 121/160\n",
      "282/282 [==============================] - 14s 48ms/step - loss: 0.0048\n",
      "Epoch 122/160\n",
      "282/282 [==============================] - 14s 49ms/step - loss: 0.0048\n",
      "Epoch 123/160\n",
      "282/282 [==============================] - 13s 48ms/step - loss: 0.0048\n",
      "Epoch 124/160\n",
      "282/282 [==============================] - 15s 54ms/step - loss: 0.0048\n",
      "Epoch 125/160\n",
      "282/282 [==============================] - 14s 48ms/step - loss: 0.0048\n",
      "Epoch 126/160\n",
      "282/282 [==============================] - 14s 48ms/step - loss: 0.0048\n",
      "Epoch 127/160\n",
      "282/282 [==============================] - 14s 51ms/step - loss: 0.0048\n",
      "Epoch 128/160\n",
      "282/282 [==============================] - 14s 49ms/step - loss: 0.0048\n",
      "Epoch 129/160\n",
      "282/282 [==============================] - 15s 54ms/step - loss: 0.0047\n",
      "Epoch 130/160\n",
      "282/282 [==============================] - 14s 49ms/step - loss: 0.0047\n",
      "Epoch 131/160\n",
      "282/282 [==============================] - 14s 48ms/step - loss: 0.0047\n",
      "Epoch 132/160\n",
      "282/282 [==============================] - 14s 48ms/step - loss: 0.0047\n",
      "Epoch 133/160\n",
      "282/282 [==============================] - 13s 48ms/step - loss: 0.0047\n",
      "Epoch 134/160\n",
      "282/282 [==============================] - 14s 50ms/step - loss: 0.0047\n",
      "Epoch 135/160\n",
      "282/282 [==============================] - 17s 61ms/step - loss: 0.0047\n",
      "Epoch 136/160\n",
      "282/282 [==============================] - 25s 88ms/step - loss: 0.0047\n",
      "Epoch 137/160\n",
      "282/282 [==============================] - 25s 88ms/step - loss: 0.0047\n",
      "Epoch 138/160\n",
      "282/282 [==============================] - 24s 86ms/step - loss: 0.0047\n",
      "Epoch 139/160\n",
      "282/282 [==============================] - 25s 87ms/step - loss: 0.0046\n",
      "Epoch 140/160\n",
      "282/282 [==============================] - 14s 51ms/step - loss: 0.0047\n",
      "Epoch 141/160\n",
      "282/282 [==============================] - 16s 55ms/step - loss: 0.0046\n",
      "Epoch 142/160\n",
      "282/282 [==============================] - 15s 55ms/step - loss: 0.0046\n",
      "Epoch 143/160\n",
      "282/282 [==============================] - 14s 49ms/step - loss: 0.0046\n",
      "Epoch 144/160\n",
      "282/282 [==============================] - 14s 48ms/step - loss: 0.0046\n",
      "Epoch 145/160\n",
      "282/282 [==============================] - 14s 50ms/step - loss: 0.0046\n",
      "Epoch 146/160\n",
      "282/282 [==============================] - 15s 54ms/step - loss: 0.0046\n",
      "Epoch 147/160\n",
      "282/282 [==============================] - 25s 88ms/step - loss: 0.0046\n",
      "Epoch 148/160\n",
      "282/282 [==============================] - 24s 87ms/step - loss: 0.0046\n",
      "Epoch 149/160\n",
      "282/282 [==============================] - 22s 79ms/step - loss: 0.0045\n",
      "Epoch 150/160\n",
      "282/282 [==============================] - 25s 89ms/step - loss: 0.0045\n",
      "Epoch 151/160\n",
      "282/282 [==============================] - 24s 87ms/step - loss: 0.0046\n",
      "Epoch 152/160\n",
      "282/282 [==============================] - 25s 88ms/step - loss: 0.0046\n",
      "Epoch 153/160\n",
      "282/282 [==============================] - 25s 87ms/step - loss: 0.0045\n",
      "Epoch 154/160\n",
      "282/282 [==============================] - 19s 66ms/step - loss: 0.0045\n",
      "Epoch 155/160\n",
      "282/282 [==============================] - 14s 48ms/step - loss: 0.0046\n",
      "Epoch 156/160\n",
      "282/282 [==============================] - 14s 49ms/step - loss: 0.0045\n",
      "Epoch 157/160\n",
      "282/282 [==============================] - 14s 48ms/step - loss: 0.0046\n",
      "Epoch 158/160\n",
      "282/282 [==============================] - 14s 48ms/step - loss: 0.0045\n",
      "Epoch 159/160\n",
      "282/282 [==============================] - 14s 48ms/step - loss: 0.0045\n",
      "Epoch 160/160\n",
      "282/282 [==============================] - 14s 48ms/step - loss: 0.0045\n"
     ]
    },
    {
     "data": {
      "text/plain": [
       "<tensorflow.python.keras.callbacks.History at 0x7f4bc4e4cd60>"
      ]
     },
     "execution_count": 71,
     "metadata": {},
     "output_type": "execute_result"
    }
   ],
   "source": [
    "epochs = 160\n",
    "\n",
    "initial_epoch = 0\n",
    "lr_decay = 1\n",
    "\n",
    "lr_sched = step_decay_schedule(initial_lr=learning_rate,\n",
    "                               decay_factor=lr_decay,\n",
    "                               step_size=1)\n",
    "\n",
    "callbacks_list = [lr_sched]\n",
    "\n",
    "model.fit(X_train,\n",
    "          X_train,\n",
    "          batch_size = batch_size,\n",
    "          shuffle = True,\n",
    "          epochs = epochs,\n",
    "          initial_epoch = initial_epoch,\n",
    "          callbacks = callbacks_list)"
   ]
  },
  {
   "cell_type": "code",
   "execution_count": 61,
   "id": "9f326ffb",
   "metadata": {},
   "outputs": [
    {
     "data": {
      "image/png": "[encoded data removed]",
      "text/plain": [
       "<Figure size 1500x300 with 20 Axes>"
      ]
     },
     "metadata": {},
     "output_type": "display_data"
    }
   ],
   "source": [
    "n_to_show = 10\n",
    "example_idx = np.random.choice(range(len(X_test)), n_to_show)\n",
    "example_images = X_test[example_idx]\n",
    "\n",
    "z_points = encoder.predict(example_images)\n",
    "\n",
    "reconst_images = decoder.predict(z_points)\n",
    "\n",
    "fig = plt.figure(figsize=(15, 3))\n",
    "fig.subplots_adjust(hspace=0.4, wspace=0.4)\n",
    "\n",
    "for i in range(n_to_show):\n",
    "    img = example_images[i]#.squeeze()\n",
    "    ax = fig.add_subplot(2, n_to_show, i+1)\n",
    "    ax.axis('off')\n",
    "    ax.text(0.5, -0.35, str(np.round(z_points[i],1)), fontsize=10, ha='center', transform=ax.transAxes)   \n",
    "    ax.imshow(img)\n",
    "\n",
    "for i in range(n_to_show):\n",
    "    img = reconst_images[i]#.squeeze()\n",
    "    ax = fig.add_subplot(2, n_to_show, i+n_to_show+1)\n",
    "    ax.axis('off')\n",
    "    ax.imshow(img)"
   ]
  },
  {
   "cell_type": "code",
   "execution_count": 63,
   "id": "34a677b0",
   "metadata": {},
   "outputs": [
    {
     "data": {
      "text/plain": [
       "array([[ -8.469794 , 170.90178  ,   9.00763  , -93.58297  ],\n",
       "       [-64.3769   ,  43.035976 ,  52.180527 ,  22.915298 ],\n",
       "       [-35.98678  ,  82.43537  ,  26.46123  ,  62.773846 ],\n",
       "       [-38.909157 ,  57.974983 ,   2.6758974,  83.17892  ],\n",
       "       [-72.02312  ,  23.533598 ,  17.634342 ,  46.37612  ],\n",
       "       [ 40.03944  , -40.36177  , 114.577415 , 102.34623  ],\n",
       "       [-73.4969   , -30.948343 ,  41.304497 ,  34.05846  ],\n",
       "       [-51.21996  ,  77.11579  ,  18.511848 ,  23.182941 ],\n",
       "       [ 55.81568  ,  26.626923 ,  71.5174   , 134.95926  ],\n",
       "       [ -3.1356077,  69.15884  ,   1.4795197,  68.945915 ]],\n",
       "      dtype=float32)"
      ]
     },
     "execution_count": 63,
     "metadata": {},
     "output_type": "execute_result"
    }
   ],
   "source": [
    "#reconst_images = AE.decoder.predict(z_points)\n",
    "z_points"
   ]
  },
  {
   "cell_type": "code",
   "execution_count": 65,
   "id": "7532d981",
   "metadata": {},
   "outputs": [
    {
     "data": {
      "text/plain": [
       "<matplotlib.image.AxesImage at 0x7f4bc4e9b5e0>"
      ]
     },
     "execution_count": 65,
     "metadata": {},
     "output_type": "execute_result"
    },
    {
     "data": {
      "image/png": "[encoded data removed]",
      "text/plain": [
       "<Figure size 640x480 with 1 Axes>"
      ]
     },
     "metadata": {},
     "output_type": "display_data"
    }
   ],
   "source": [
    "z_s = np.array([[0.0  ,  10.0, 0.0, 1.0]])\n",
    "reconst_images = decoder.predict(z_s)\n",
    "plt.imshow(reconst_images[0])"
   ]
  },
  {
   "cell_type": "markdown",
   "id": "584920fc",
   "metadata": {},
   "source": [
    "## Reducing Dimensions and staying true to the colorpunx"
   ]
  },
  {
   "cell_type": "code",
   "execution_count": 32,
   "id": "fd278e1f",
   "metadata": {},
   "outputs": [
    {
     "name": "stdout",
     "output_type": "stream",
     "text": [
      "Downloading data from https://storage.googleapis.com/tensorflow/tf-keras-datasets/mnist.npz\n",
      "11493376/11490434 [==============================] - 0s 0us/step\n"
     ]
    }
   ],
   "source": [
    "(mnist_x_train, mnist_y_train), (mnist_x_test, minst_y_test) = tf.keras.datasets.mnist.load_data()"
   ]
  },
  {
   "cell_type": "code",
   "execution_count": 37,
   "id": "c17fd3e7",
   "metadata": {},
   "outputs": [
    {
     "data": {
      "text/plain": [
       "numpy.uint8"
      ]
     },
     "execution_count": 37,
     "metadata": {},
     "output_type": "execute_result"
    }
   ],
   "source": [
    "type(mnist_x_train[0][0][0])"
   ]
  },
  {
   "cell_type": "code",
   "execution_count": 68,
   "id": "c9a57cc1",
   "metadata": {},
   "outputs": [
    {
     "data": {
      "text/plain": [
       "numpy.float32"
      ]
     },
     "execution_count": 68,
     "metadata": {},
     "output_type": "execute_result"
    }
   ],
   "source": [
    "type(X_train[0][0][0][0])"
   ]
  },
  {
   "cell_type": "markdown",
   "id": "8c70bf40",
   "metadata": {},
   "source": [
    "Training the AR on the (24,24,4) sized input gave some interesting results, specifically, we saw that the pixel colors mutated into a blend of the mostlikely colors. but, these are n'/t actualy cryptopunks. we can greatly simmply the model by limting the colors tot he 2222 colrso used in CPACV-10"
   ]
  },
  {
   "cell_type": "markdown",
   "id": "16068a50",
   "metadata": {},
   "source": [
    "map every X_train[0] to (24,24, 1) where the color channel is uint8 and maps to a colormap that can be used to reconstruct later."
   ]
  },
  {
   "cell_type": "code",
   "execution_count": 143,
   "id": "da061750",
   "metadata": {},
   "outputs": [],
   "source": [
    "import pickle\n",
    "\n",
    "class CryptoPunksColorMap:\n",
    "    def __init__(self):\n",
    "        with open(f\"../data/_colors_count.pickle\", 'rb') as f:\n",
    "            self.colors_count = pickle.load(f)\n",
    "            self.colors = list(self.colors_count.keys())\n",
    "            self.color_d = {}\n",
    "            i=0\n",
    "            for k in self.colors:\n",
    "                self.color_d[k] = i\n",
    "                i+=1\n",
    "    \n",
    "    def flatten(self, img):\n",
    "        return np.array([[self.colors_d[str(c)] for c in row]\n",
    "                                    for row in img]).astype(np.uint8)\n",
    "    \n",
    "    def unflatten(self,img):\n",
    "        return np.array([[np.fromstring(self.colors[c][1:-1], float, sep=' ') for c in row]\n",
    "                                                                       for row in img])\n",
    "\n",
    "cpm = CryptoPunksColorMap()"
   ]
  },
  {
   "cell_type": "markdown",
   "id": "b9bc8091",
   "metadata": {},
   "source": [
    "### Prepare a new Training Set with lower dimensionality"
   ]
  },
  {
   "cell_type": "code",
   "execution_count": 5,
   "id": "d67cff3d",
   "metadata": {},
   "outputs": [],
   "source": [
    "#X_train_flat = [cpm.flatten(img) for img in X_train]\n",
    "#X_test_flat  = [cpm.flatten(img) for img in X_test]"
   ]
  },
  {
   "cell_type": "code",
   "execution_count": 40,
   "id": "d154328b",
   "metadata": {},
   "outputs": [],
   "source": [
    "# pickle them so we can restore progress\n",
    "with open(f\"../data/_x_train_flat.pickle\", 'wb') as filehandler:\n",
    "    pickle.dump(X_train_flat, filehandler)\n",
    "with open(f\"../data/_x_test_flat.pickle\", 'wb') as filehandler:\n",
    "    pickle.dump(X_test_flat, filehandler)"
   ]
  },
  {
   "cell_type": "markdown",
   "id": "95773047",
   "metadata": {},
   "source": [
    "### test the pickle files"
   ]
  },
  {
   "cell_type": "code",
   "execution_count": 47,
   "id": "04e8dfdc",
   "metadata": {},
   "outputs": [
    {
     "data": {
      "text/plain": [
       "<matplotlib.image.AxesImage at 0x7f10c0c12610>"
      ]
     },
     "execution_count": 47,
     "metadata": {},
     "output_type": "execute_result"
    },
    {
     "data": {
      "image/png": "[encoded data removed]",
      "text/plain": [
       "<Figure size 500x300 with 2 Axes>"
      ]
     },
     "metadata": {},
     "output_type": "display_data"
    }
   ],
   "source": [
    "X_train_flat = None\n",
    "X_test_flat = None\n",
    "\n",
    "with open(f\"../data/_x_train_flat.pickle\", 'rb') as f:\n",
    "    X_train_flat = np.array(pickle.load(f))\n",
    "\n",
    "with open(f\"../data/_x_test_flat.pickle\", 'rb') as f:\n",
    "    X_test_flat = np.array(pickle.load(f))\n",
    "\n",
    "\n",
    "fig = plt.figure(figsize=(5, 3))\n",
    "ax = fig.add_subplot(1,2,1) \n",
    "ax.imshow(cpm.unflatten(X_train_flat[0]))\n",
    "ax = fig.add_subplot(1,2,2)  \n",
    "ax.imshow(cpm.unflatten(X_test_flat[0]))"
   ]
  },
  {
   "cell_type": "markdown",
   "id": "4ea1ae55",
   "metadata": {},
   "source": [
    "### Train a model"
   ]
  },
  {
   "cell_type": "code",
   "execution_count": 48,
   "id": "a43b0c8b",
   "metadata": {},
   "outputs": [],
   "source": [
    "ctx.input_dim = (24, 24, 1)\n",
    "ctx.encoder_conv_filters = [32, 64, 64, 64]\n",
    "ctx.encoder_conv_kernel_size = [3,3,3,3]\n",
    "ctx.encoder_conv_strides = [1,2,2,1]\n",
    "ctx.decoder_conv_t_filters = [64,64,32,1]\n",
    "ctx.decoder_conv_t_kernel_size = [3,3,3,3]\n",
    "ctx.decoder_conv_t_strides = [1,2,2,1]\n",
    "ctx.z_dim = 3\n",
    "ctx.n_layers_encoder = len(ctx.encoder_conv_filters)\n",
    "ctx.n_layers_decoder = len(ctx.decoder_conv_t_filters)"
   ]
  },
  {
   "cell_type": "code",
   "execution_count": 62,
   "id": "5512938d",
   "metadata": {},
   "outputs": [
    {
     "data": {
      "text/plain": [
       "(24, 24)"
      ]
     },
     "execution_count": 62,
     "metadata": {},
     "output_type": "execute_result"
    }
   ],
   "source": [
    "X_train_flat[0].shape"
   ]
  },
  {
   "cell_type": "code",
   "execution_count": 49,
   "id": "ece552bf",
   "metadata": {},
   "outputs": [],
   "source": [
    "encoder_input = Input(shape=ctx.input_dim, \n",
    "                      name='encoder_input')\n",
    "\n",
    "x = encoder_input\n",
    "\n",
    "for i in range(ctx.n_layers_encoder):\n",
    "    conv_layer = Conv2D(filters = ctx.encoder_conv_filters[i],\n",
    "                        kernel_size = ctx.encoder_conv_kernel_size[i],\n",
    "                        strides = ctx.encoder_conv_strides[i],\n",
    "                        padding = 'same',\n",
    "                        name = 'encoder_conv_' + str(i))\n",
    "    x = conv_layer(x)\n",
    "    x = LeakyReLU()(x)\n",
    "    #x = BatchNormalization()(x)\n",
    "    #x = Dropout(rate = 0.25)(x)\n",
    "    \n",
    "shape_before_flattening = K.int_shape(x)[1:]\n",
    "x = Flatten()(x)\n",
    "encoder_output= Dense(ctx.z_dim, name='encoder_output')(x)\n",
    "encoder = Model(encoder_input, encoder_output)\n"
   ]
  },
  {
   "cell_type": "code",
   "execution_count": 59,
   "id": "52673c34",
   "metadata": {},
   "outputs": [
    {
     "name": "stdout",
     "output_type": "stream",
     "text": [
      "Model: \"model_6\"\n",
      "_________________________________________________________________\n",
      "Layer (type)                 Output Shape              Param #   \n",
      "=================================================================\n",
      "encoder_input (InputLayer)   [(None, 24, 24, 1)]       0         \n",
      "_________________________________________________________________\n",
      "encoder_conv_0 (Conv2D)      (None, 24, 24, 32)        320       \n",
      "_________________________________________________________________\n",
      "leaky_re_lu_14 (LeakyReLU)   (None, 24, 24, 32)        0         \n",
      "_________________________________________________________________\n",
      "encoder_conv_1 (Conv2D)      (None, 12, 12, 64)        18496     \n",
      "_________________________________________________________________\n",
      "leaky_re_lu_15 (LeakyReLU)   (None, 12, 12, 64)        0         \n",
      "_________________________________________________________________\n",
      "encoder_conv_2 (Conv2D)      (None, 6, 6, 64)          36928     \n",
      "_________________________________________________________________\n",
      "leaky_re_lu_16 (LeakyReLU)   (None, 6, 6, 64)          0         \n",
      "_________________________________________________________________\n",
      "encoder_conv_3 (Conv2D)      (None, 6, 6, 64)          36928     \n",
      "_________________________________________________________________\n",
      "leaky_re_lu_17 (LeakyReLU)   (None, 6, 6, 64)          0         \n",
      "_________________________________________________________________\n",
      "flatten_2 (Flatten)          (None, 2304)              0         \n",
      "_________________________________________________________________\n",
      "encoder_output (Dense)       (None, 2)                 4610      \n",
      "=================================================================\n",
      "Total params: 97,282\n",
      "Trainable params: 97,282\n",
      "Non-trainable params: 0\n",
      "_________________________________________________________________\n"
     ]
    }
   ],
   "source": [
    "encoder.summary()"
   ]
  },
  {
   "cell_type": "code",
   "execution_count": 50,
   "id": "2ce33e66",
   "metadata": {},
   "outputs": [],
   "source": [
    "decoder_input = Input(shape=(ctx.z_dim,), name='decoder_input')\n",
    "\n",
    "x = Dense(np.prod(shape_before_flattening))(decoder_input)\n",
    "x = Reshape(shape_before_flattening)(x)\n",
    "\n",
    "for i in range(ctx.n_layers_decoder):\n",
    "    conv_t_layer = Conv2DTranspose(filters = ctx.decoder_conv_t_filters[i],\n",
    "                                   kernel_size = ctx.decoder_conv_t_kernel_size[i],\n",
    "                                   strides = ctx.decoder_conv_t_strides[i],\n",
    "                                   padding = 'same',\n",
    "                                   name = 'decoder_conv_t_' + str(i))\n",
    "    x = conv_t_layer(x)\n",
    "    if i < ctx.n_layers_decoder - 1:\n",
    "        x = LeakyReLU()(x)\n",
    "        #x = BatchNormalization()(x)\n",
    "        #x = Dropout(rate = 0.25)(x)\n",
    "    else:\n",
    "        x = Activation('sigmoid')(x)\n",
    "\n",
    "decoder_output = x\n",
    "decoder = Model(decoder_input, decoder_output)"
   ]
  },
  {
   "cell_type": "code",
   "execution_count": 51,
   "id": "f8945f0a",
   "metadata": {},
   "outputs": [],
   "source": [
    "model_input = encoder_input\n",
    "model_output = decoder(encoder_output)\n",
    "\n",
    "model = Model(model_input, model_output)\n"
   ]
  },
  {
   "cell_type": "code",
   "execution_count": 52,
   "id": "12f94b85",
   "metadata": {},
   "outputs": [],
   "source": [
    "optimizer = Adam(lr=ctx.learning_rate)\n",
    "model.compile(optimizer=optimizer, loss = r_loss)"
   ]
  },
  {
   "cell_type": "code",
   "execution_count": 194,
   "id": "35240004",
   "metadata": {},
   "outputs": [],
   "source": [
    "X_train_flat_float = X_train_flat.astype('float32') / 255.\n",
    "X_test_flat_float = X_test_flat.astype('float32') / 255."
   ]
  },
  {
   "cell_type": "code",
   "execution_count": 56,
   "id": "45cd7ec6",
   "metadata": {},
   "outputs": [
    {
     "name": "stdout",
     "output_type": "stream",
     "text": [
      "Epoch 1/5\n"
     ]
    },
    {
     "ename": "ValueError",
     "evalue": "in user code:\n\n    /home/tnn1t1s/miniconda3/envs/colorpunx/lib/python3.9/site-packages/tensorflow/python/keras/engine/training.py:805 train_function  *\n        return step_function(self, iterator)\n    /tmp/ipykernel_679218/3423225362.py:2 r_loss  *\n        return K.mean(K.square(y_true - y_pred), axis = [1,2,3])\n    /home/tnn1t1s/miniconda3/envs/colorpunx/lib/python3.9/site-packages/tensorflow/python/util/dispatch.py:201 wrapper  **\n        return target(*args, **kwargs)\n    /home/tnn1t1s/miniconda3/envs/colorpunx/lib/python3.9/site-packages/tensorflow/python/keras/backend.py:2342 mean\n        return math_ops.reduce_mean(x, axis, keepdims)\n    /home/tnn1t1s/miniconda3/envs/colorpunx/lib/python3.9/site-packages/tensorflow/python/util/dispatch.py:201 wrapper\n        return target(*args, **kwargs)\n    /home/tnn1t1s/miniconda3/envs/colorpunx/lib/python3.9/site-packages/tensorflow/python/ops/math_ops.py:2370 reduce_mean\n        gen_math_ops.mean(\n    /home/tnn1t1s/miniconda3/envs/colorpunx/lib/python3.9/site-packages/tensorflow/python/ops/gen_math_ops.py:5780 mean\n        _, _, _op, _outputs = _op_def_library._apply_op_helper(\n    /home/tnn1t1s/miniconda3/envs/colorpunx/lib/python3.9/site-packages/tensorflow/python/framework/op_def_library.py:748 _apply_op_helper\n        op = g._create_op_internal(op_type_name, inputs, dtypes=None,\n    /home/tnn1t1s/miniconda3/envs/colorpunx/lib/python3.9/site-packages/tensorflow/python/framework/func_graph.py:590 _create_op_internal\n        return super(FuncGraph, self)._create_op_internal(  # pylint: disable=protected-access\n    /home/tnn1t1s/miniconda3/envs/colorpunx/lib/python3.9/site-packages/tensorflow/python/framework/ops.py:3528 _create_op_internal\n        ret = Operation(\n    /home/tnn1t1s/miniconda3/envs/colorpunx/lib/python3.9/site-packages/tensorflow/python/framework/ops.py:2015 __init__\n        self._c_op = _create_c_op(self._graph, node_def, inputs,\n    /home/tnn1t1s/miniconda3/envs/colorpunx/lib/python3.9/site-packages/tensorflow/python/framework/ops.py:1856 _create_c_op\n        raise ValueError(str(e))\n\n    ValueError: Invalid reduction dimension 3 for input with 3 dimensions. for '{{node r_loss/Mean}} = Mean[T=DT_FLOAT, Tidx=DT_INT32, keep_dims=false](r_loss/Square, r_loss/Mean/reduction_indices)' with input shapes: [?,24,24], [3] and with computed input tensors: input[1] = <1 2 3>.\n",
     "output_type": "error",
     "traceback": [
      "\u001b[0;31m---------------------------------------------------------------------------\u001b[0m",
      "\u001b[0;31mValueError\u001b[0m                                Traceback (most recent call last)",
      "\u001b[0;32m/tmp/ipykernel_679218/2761069128.py\u001b[0m in \u001b[0;36m<module>\u001b[0;34m\u001b[0m\n\u001b[1;32m     10\u001b[0m \u001b[0mcallbacks_list\u001b[0m \u001b[0;34m=\u001b[0m \u001b[0;34m[\u001b[0m\u001b[0mlr_sched\u001b[0m\u001b[0;34m]\u001b[0m\u001b[0;34m\u001b[0m\u001b[0;34m\u001b[0m\u001b[0m\n\u001b[1;32m     11\u001b[0m \u001b[0;34m\u001b[0m\u001b[0m\n\u001b[0;32m---> 12\u001b[0;31m model.fit(X_train_flat_float,\n\u001b[0m\u001b[1;32m     13\u001b[0m           \u001b[0mX_train_flat_float\u001b[0m\u001b[0;34m,\u001b[0m\u001b[0;34m\u001b[0m\u001b[0;34m\u001b[0m\u001b[0m\n\u001b[1;32m     14\u001b[0m           \u001b[0mbatch_size\u001b[0m \u001b[0;34m=\u001b[0m \u001b[0mctx\u001b[0m\u001b[0;34m.\u001b[0m\u001b[0mbatch_size\u001b[0m\u001b[0;34m,\u001b[0m\u001b[0;34m\u001b[0m\u001b[0;34m\u001b[0m\u001b[0m\n",
      "\u001b[0;32m~/miniconda3/envs/colorpunx/lib/python3.9/site-packages/tensorflow/python/keras/engine/training.py\u001b[0m in \u001b[0;36mfit\u001b[0;34m(self, x, y, batch_size, epochs, verbose, callbacks, validation_split, validation_data, shuffle, class_weight, sample_weight, initial_epoch, steps_per_epoch, validation_steps, validation_batch_size, validation_freq, max_queue_size, workers, use_multiprocessing)\u001b[0m\n\u001b[1;32m   1098\u001b[0m                 _r=1):\n\u001b[1;32m   1099\u001b[0m               \u001b[0mcallbacks\u001b[0m\u001b[0;34m.\u001b[0m\u001b[0mon_train_batch_begin\u001b[0m\u001b[0;34m(\u001b[0m\u001b[0mstep\u001b[0m\u001b[0;34m)\u001b[0m\u001b[0;34m\u001b[0m\u001b[0;34m\u001b[0m\u001b[0m\n\u001b[0;32m-> 1100\u001b[0;31m               \u001b[0mtmp_logs\u001b[0m \u001b[0;34m=\u001b[0m \u001b[0mself\u001b[0m\u001b[0;34m.\u001b[0m\u001b[0mtrain_function\u001b[0m\u001b[0;34m(\u001b[0m\u001b[0miterator\u001b[0m\u001b[0;34m)\u001b[0m\u001b[0;34m\u001b[0m\u001b[0;34m\u001b[0m\u001b[0m\n\u001b[0m\u001b[1;32m   1101\u001b[0m               \u001b[0;32mif\u001b[0m \u001b[0mdata_handler\u001b[0m\u001b[0;34m.\u001b[0m\u001b[0mshould_sync\u001b[0m\u001b[0;34m:\u001b[0m\u001b[0;34m\u001b[0m\u001b[0;34m\u001b[0m\u001b[0m\n\u001b[1;32m   1102\u001b[0m                 \u001b[0mcontext\u001b[0m\u001b[0;34m.\u001b[0m\u001b[0masync_wait\u001b[0m\u001b[0;34m(\u001b[0m\u001b[0;34m)\u001b[0m\u001b[0;34m\u001b[0m\u001b[0;34m\u001b[0m\u001b[0m\n",
      "\u001b[0;32m~/miniconda3/envs/colorpunx/lib/python3.9/site-packages/tensorflow/python/eager/def_function.py\u001b[0m in \u001b[0;36m__call__\u001b[0;34m(self, *args, **kwds)\u001b[0m\n\u001b[1;32m    826\u001b[0m     \u001b[0mtracing_count\u001b[0m \u001b[0;34m=\u001b[0m \u001b[0mself\u001b[0m\u001b[0;34m.\u001b[0m\u001b[0mexperimental_get_tracing_count\u001b[0m\u001b[0;34m(\u001b[0m\u001b[0;34m)\u001b[0m\u001b[0;34m\u001b[0m\u001b[0;34m\u001b[0m\u001b[0m\n\u001b[1;32m    827\u001b[0m     \u001b[0;32mwith\u001b[0m \u001b[0mtrace\u001b[0m\u001b[0;34m.\u001b[0m\u001b[0mTrace\u001b[0m\u001b[0;34m(\u001b[0m\u001b[0mself\u001b[0m\u001b[0;34m.\u001b[0m\u001b[0m_name\u001b[0m\u001b[0;34m)\u001b[0m \u001b[0;32mas\u001b[0m \u001b[0mtm\u001b[0m\u001b[0;34m:\u001b[0m\u001b[0;34m\u001b[0m\u001b[0;34m\u001b[0m\u001b[0m\n\u001b[0;32m--> 828\u001b[0;31m       \u001b[0mresult\u001b[0m \u001b[0;34m=\u001b[0m \u001b[0mself\u001b[0m\u001b[0;34m.\u001b[0m\u001b[0m_call\u001b[0m\u001b[0;34m(\u001b[0m\u001b[0;34m*\u001b[0m\u001b[0margs\u001b[0m\u001b[0;34m,\u001b[0m \u001b[0;34m**\u001b[0m\u001b[0mkwds\u001b[0m\u001b[0;34m)\u001b[0m\u001b[0;34m\u001b[0m\u001b[0;34m\u001b[0m\u001b[0m\n\u001b[0m\u001b[1;32m    829\u001b[0m       \u001b[0mcompiler\u001b[0m \u001b[0;34m=\u001b[0m \u001b[0;34m\"xla\"\u001b[0m \u001b[0;32mif\u001b[0m \u001b[0mself\u001b[0m\u001b[0;34m.\u001b[0m\u001b[0m_experimental_compile\u001b[0m \u001b[0;32melse\u001b[0m \u001b[0;34m\"nonXla\"\u001b[0m\u001b[0;34m\u001b[0m\u001b[0;34m\u001b[0m\u001b[0m\n\u001b[1;32m    830\u001b[0m       \u001b[0mnew_tracing_count\u001b[0m \u001b[0;34m=\u001b[0m \u001b[0mself\u001b[0m\u001b[0;34m.\u001b[0m\u001b[0mexperimental_get_tracing_count\u001b[0m\u001b[0;34m(\u001b[0m\u001b[0;34m)\u001b[0m\u001b[0;34m\u001b[0m\u001b[0;34m\u001b[0m\u001b[0m\n",
      "\u001b[0;32m~/miniconda3/envs/colorpunx/lib/python3.9/site-packages/tensorflow/python/eager/def_function.py\u001b[0m in \u001b[0;36m_call\u001b[0;34m(self, *args, **kwds)\u001b[0m\n\u001b[1;32m    860\u001b[0m       \u001b[0;31m# In this case we have not created variables on the first call. So we can\u001b[0m\u001b[0;34m\u001b[0m\u001b[0;34m\u001b[0m\u001b[0m\n\u001b[1;32m    861\u001b[0m       \u001b[0;31m# run the first trace but we should fail if variables are created.\u001b[0m\u001b[0;34m\u001b[0m\u001b[0;34m\u001b[0m\u001b[0m\n\u001b[0;32m--> 862\u001b[0;31m       \u001b[0mresults\u001b[0m \u001b[0;34m=\u001b[0m \u001b[0mself\u001b[0m\u001b[0;34m.\u001b[0m\u001b[0m_stateful_fn\u001b[0m\u001b[0;34m(\u001b[0m\u001b[0;34m*\u001b[0m\u001b[0margs\u001b[0m\u001b[0;34m,\u001b[0m \u001b[0;34m**\u001b[0m\u001b[0mkwds\u001b[0m\u001b[0;34m)\u001b[0m\u001b[0;34m\u001b[0m\u001b[0;34m\u001b[0m\u001b[0m\n\u001b[0m\u001b[1;32m    863\u001b[0m       \u001b[0;32mif\u001b[0m \u001b[0mself\u001b[0m\u001b[0;34m.\u001b[0m\u001b[0m_created_variables\u001b[0m\u001b[0;34m:\u001b[0m\u001b[0;34m\u001b[0m\u001b[0;34m\u001b[0m\u001b[0m\n\u001b[1;32m    864\u001b[0m         raise ValueError(\"Creating variables on a non-first call to a function\"\n",
      "\u001b[0;32m~/miniconda3/envs/colorpunx/lib/python3.9/site-packages/tensorflow/python/eager/function.py\u001b[0m in \u001b[0;36m__call__\u001b[0;34m(self, *args, **kwargs)\u001b[0m\n\u001b[1;32m   2939\u001b[0m     \u001b[0;32mwith\u001b[0m \u001b[0mself\u001b[0m\u001b[0;34m.\u001b[0m\u001b[0m_lock\u001b[0m\u001b[0;34m:\u001b[0m\u001b[0;34m\u001b[0m\u001b[0;34m\u001b[0m\u001b[0m\n\u001b[1;32m   2940\u001b[0m       (graph_function,\n\u001b[0;32m-> 2941\u001b[0;31m        filtered_flat_args) = self._maybe_define_function(args, kwargs)\n\u001b[0m\u001b[1;32m   2942\u001b[0m     return graph_function._call_flat(\n\u001b[1;32m   2943\u001b[0m         filtered_flat_args, captured_inputs=graph_function.captured_inputs)  # pylint: disable=protected-access\n",
      "\u001b[0;32m~/miniconda3/envs/colorpunx/lib/python3.9/site-packages/tensorflow/python/eager/function.py\u001b[0m in \u001b[0;36m_maybe_define_function\u001b[0;34m(self, args, kwargs)\u001b[0m\n\u001b[1;32m   3355\u001b[0m               \u001b[0mself\u001b[0m\u001b[0;34m.\u001b[0m\u001b[0minput_signature\u001b[0m \u001b[0;32mis\u001b[0m \u001b[0;32mNone\u001b[0m \u001b[0;32mand\u001b[0m\u001b[0;34m\u001b[0m\u001b[0;34m\u001b[0m\u001b[0m\n\u001b[1;32m   3356\u001b[0m               call_context_key in self._function_cache.missed):\n\u001b[0;32m-> 3357\u001b[0;31m             return self._define_function_with_shape_relaxation(\n\u001b[0m\u001b[1;32m   3358\u001b[0m                 args, kwargs, flat_args, filtered_flat_args, cache_key_context)\n\u001b[1;32m   3359\u001b[0m \u001b[0;34m\u001b[0m\u001b[0m\n",
      "\u001b[0;32m~/miniconda3/envs/colorpunx/lib/python3.9/site-packages/tensorflow/python/eager/function.py\u001b[0m in \u001b[0;36m_define_function_with_shape_relaxation\u001b[0;34m(self, args, kwargs, flat_args, filtered_flat_args, cache_key_context)\u001b[0m\n\u001b[1;32m   3277\u001b[0m           expand_composites=True)\n\u001b[1;32m   3278\u001b[0m \u001b[0;34m\u001b[0m\u001b[0m\n\u001b[0;32m-> 3279\u001b[0;31m     graph_function = self._create_graph_function(\n\u001b[0m\u001b[1;32m   3280\u001b[0m         args, kwargs, override_flat_arg_shapes=relaxed_arg_shapes)\n\u001b[1;32m   3281\u001b[0m     \u001b[0mself\u001b[0m\u001b[0;34m.\u001b[0m\u001b[0m_function_cache\u001b[0m\u001b[0;34m.\u001b[0m\u001b[0marg_relaxed\u001b[0m\u001b[0;34m[\u001b[0m\u001b[0mrank_only_cache_key\u001b[0m\u001b[0;34m]\u001b[0m \u001b[0;34m=\u001b[0m \u001b[0mgraph_function\u001b[0m\u001b[0;34m\u001b[0m\u001b[0;34m\u001b[0m\u001b[0m\n",
      "\u001b[0;32m~/miniconda3/envs/colorpunx/lib/python3.9/site-packages/tensorflow/python/eager/function.py\u001b[0m in \u001b[0;36m_create_graph_function\u001b[0;34m(self, args, kwargs, override_flat_arg_shapes)\u001b[0m\n\u001b[1;32m   3194\u001b[0m     \u001b[0marg_names\u001b[0m \u001b[0;34m=\u001b[0m \u001b[0mbase_arg_names\u001b[0m \u001b[0;34m+\u001b[0m \u001b[0mmissing_arg_names\u001b[0m\u001b[0;34m\u001b[0m\u001b[0;34m\u001b[0m\u001b[0m\n\u001b[1;32m   3195\u001b[0m     graph_function = ConcreteFunction(\n\u001b[0;32m-> 3196\u001b[0;31m         func_graph_module.func_graph_from_py_func(\n\u001b[0m\u001b[1;32m   3197\u001b[0m             \u001b[0mself\u001b[0m\u001b[0;34m.\u001b[0m\u001b[0m_name\u001b[0m\u001b[0;34m,\u001b[0m\u001b[0;34m\u001b[0m\u001b[0;34m\u001b[0m\u001b[0m\n\u001b[1;32m   3198\u001b[0m             \u001b[0mself\u001b[0m\u001b[0;34m.\u001b[0m\u001b[0m_python_function\u001b[0m\u001b[0;34m,\u001b[0m\u001b[0;34m\u001b[0m\u001b[0;34m\u001b[0m\u001b[0m\n",
      "\u001b[0;32m~/miniconda3/envs/colorpunx/lib/python3.9/site-packages/tensorflow/python/framework/func_graph.py\u001b[0m in \u001b[0;36mfunc_graph_from_py_func\u001b[0;34m(name, python_func, args, kwargs, signature, func_graph, autograph, autograph_options, add_control_dependencies, arg_names, op_return_value, collections, capture_by_value, override_flat_arg_shapes)\u001b[0m\n\u001b[1;32m    988\u001b[0m         \u001b[0m_\u001b[0m\u001b[0;34m,\u001b[0m \u001b[0moriginal_func\u001b[0m \u001b[0;34m=\u001b[0m \u001b[0mtf_decorator\u001b[0m\u001b[0;34m.\u001b[0m\u001b[0munwrap\u001b[0m\u001b[0;34m(\u001b[0m\u001b[0mpython_func\u001b[0m\u001b[0;34m)\u001b[0m\u001b[0;34m\u001b[0m\u001b[0;34m\u001b[0m\u001b[0m\n\u001b[1;32m    989\u001b[0m \u001b[0;34m\u001b[0m\u001b[0m\n\u001b[0;32m--> 990\u001b[0;31m       \u001b[0mfunc_outputs\u001b[0m \u001b[0;34m=\u001b[0m \u001b[0mpython_func\u001b[0m\u001b[0;34m(\u001b[0m\u001b[0;34m*\u001b[0m\u001b[0mfunc_args\u001b[0m\u001b[0;34m,\u001b[0m \u001b[0;34m**\u001b[0m\u001b[0mfunc_kwargs\u001b[0m\u001b[0;34m)\u001b[0m\u001b[0;34m\u001b[0m\u001b[0;34m\u001b[0m\u001b[0m\n\u001b[0m\u001b[1;32m    991\u001b[0m \u001b[0;34m\u001b[0m\u001b[0m\n\u001b[1;32m    992\u001b[0m       \u001b[0;31m# invariant: `func_outputs` contains only Tensors, CompositeTensors,\u001b[0m\u001b[0;34m\u001b[0m\u001b[0;34m\u001b[0m\u001b[0m\n",
      "\u001b[0;32m~/miniconda3/envs/colorpunx/lib/python3.9/site-packages/tensorflow/python/eager/def_function.py\u001b[0m in \u001b[0;36mwrapped_fn\u001b[0;34m(*args, **kwds)\u001b[0m\n\u001b[1;32m    632\u001b[0m             \u001b[0mxla_context\u001b[0m\u001b[0;34m.\u001b[0m\u001b[0mExit\u001b[0m\u001b[0;34m(\u001b[0m\u001b[0;34m)\u001b[0m\u001b[0;34m\u001b[0m\u001b[0;34m\u001b[0m\u001b[0m\n\u001b[1;32m    633\u001b[0m         \u001b[0;32melse\u001b[0m\u001b[0;34m:\u001b[0m\u001b[0;34m\u001b[0m\u001b[0;34m\u001b[0m\u001b[0m\n\u001b[0;32m--> 634\u001b[0;31m           \u001b[0mout\u001b[0m \u001b[0;34m=\u001b[0m \u001b[0mweak_wrapped_fn\u001b[0m\u001b[0;34m(\u001b[0m\u001b[0;34m)\u001b[0m\u001b[0;34m.\u001b[0m\u001b[0m__wrapped__\u001b[0m\u001b[0;34m(\u001b[0m\u001b[0;34m*\u001b[0m\u001b[0margs\u001b[0m\u001b[0;34m,\u001b[0m \u001b[0;34m**\u001b[0m\u001b[0mkwds\u001b[0m\u001b[0;34m)\u001b[0m\u001b[0;34m\u001b[0m\u001b[0;34m\u001b[0m\u001b[0m\n\u001b[0m\u001b[1;32m    635\u001b[0m         \u001b[0;32mreturn\u001b[0m \u001b[0mout\u001b[0m\u001b[0;34m\u001b[0m\u001b[0;34m\u001b[0m\u001b[0m\n\u001b[1;32m    636\u001b[0m \u001b[0;34m\u001b[0m\u001b[0m\n",
      "\u001b[0;32m~/miniconda3/envs/colorpunx/lib/python3.9/site-packages/tensorflow/python/framework/func_graph.py\u001b[0m in \u001b[0;36mwrapper\u001b[0;34m(*args, **kwargs)\u001b[0m\n\u001b[1;32m    975\u001b[0m           \u001b[0;32mexcept\u001b[0m \u001b[0mException\u001b[0m \u001b[0;32mas\u001b[0m \u001b[0me\u001b[0m\u001b[0;34m:\u001b[0m  \u001b[0;31m# pylint:disable=broad-except\u001b[0m\u001b[0;34m\u001b[0m\u001b[0;34m\u001b[0m\u001b[0m\n\u001b[1;32m    976\u001b[0m             \u001b[0;32mif\u001b[0m \u001b[0mhasattr\u001b[0m\u001b[0;34m(\u001b[0m\u001b[0me\u001b[0m\u001b[0;34m,\u001b[0m \u001b[0;34m\"ag_error_metadata\"\u001b[0m\u001b[0;34m)\u001b[0m\u001b[0;34m:\u001b[0m\u001b[0;34m\u001b[0m\u001b[0;34m\u001b[0m\u001b[0m\n\u001b[0;32m--> 977\u001b[0;31m               \u001b[0;32mraise\u001b[0m \u001b[0me\u001b[0m\u001b[0;34m.\u001b[0m\u001b[0mag_error_metadata\u001b[0m\u001b[0;34m.\u001b[0m\u001b[0mto_exception\u001b[0m\u001b[0;34m(\u001b[0m\u001b[0me\u001b[0m\u001b[0;34m)\u001b[0m\u001b[0;34m\u001b[0m\u001b[0;34m\u001b[0m\u001b[0m\n\u001b[0m\u001b[1;32m    978\u001b[0m             \u001b[0;32melse\u001b[0m\u001b[0;34m:\u001b[0m\u001b[0;34m\u001b[0m\u001b[0;34m\u001b[0m\u001b[0m\n\u001b[1;32m    979\u001b[0m               \u001b[0;32mraise\u001b[0m\u001b[0;34m\u001b[0m\u001b[0;34m\u001b[0m\u001b[0m\n",
      "\u001b[0;31mValueError\u001b[0m: in user code:\n\n    /home/tnn1t1s/miniconda3/envs/colorpunx/lib/python3.9/site-packages/tensorflow/python/keras/engine/training.py:805 train_function  *\n        return step_function(self, iterator)\n    /tmp/ipykernel_679218/3423225362.py:2 r_loss  *\n        return K.mean(K.square(y_true - y_pred), axis = [1,2,3])\n    /home/tnn1t1s/miniconda3/envs/colorpunx/lib/python3.9/site-packages/tensorflow/python/util/dispatch.py:201 wrapper  **\n        return target(*args, **kwargs)\n    /home/tnn1t1s/miniconda3/envs/colorpunx/lib/python3.9/site-packages/tensorflow/python/keras/backend.py:2342 mean\n        return math_ops.reduce_mean(x, axis, keepdims)\n    /home/tnn1t1s/miniconda3/envs/colorpunx/lib/python3.9/site-packages/tensorflow/python/util/dispatch.py:201 wrapper\n        return target(*args, **kwargs)\n    /home/tnn1t1s/miniconda3/envs/colorpunx/lib/python3.9/site-packages/tensorflow/python/ops/math_ops.py:2370 reduce_mean\n        gen_math_ops.mean(\n    /home/tnn1t1s/miniconda3/envs/colorpunx/lib/python3.9/site-packages/tensorflow/python/ops/gen_math_ops.py:5780 mean\n        _, _, _op, _outputs = _op_def_library._apply_op_helper(\n    /home/tnn1t1s/miniconda3/envs/colorpunx/lib/python3.9/site-packages/tensorflow/python/framework/op_def_library.py:748 _apply_op_helper\n        op = g._create_op_internal(op_type_name, inputs, dtypes=None,\n    /home/tnn1t1s/miniconda3/envs/colorpunx/lib/python3.9/site-packages/tensorflow/python/framework/func_graph.py:590 _create_op_internal\n        return super(FuncGraph, self)._create_op_internal(  # pylint: disable=protected-access\n    /home/tnn1t1s/miniconda3/envs/colorpunx/lib/python3.9/site-packages/tensorflow/python/framework/ops.py:3528 _create_op_internal\n        ret = Operation(\n    /home/tnn1t1s/miniconda3/envs/colorpunx/lib/python3.9/site-packages/tensorflow/python/framework/ops.py:2015 __init__\n        self._c_op = _create_c_op(self._graph, node_def, inputs,\n    /home/tnn1t1s/miniconda3/envs/colorpunx/lib/python3.9/site-packages/tensorflow/python/framework/ops.py:1856 _create_c_op\n        raise ValueError(str(e))\n\n    ValueError: Invalid reduction dimension 3 for input with 3 dimensions. for '{{node r_loss/Mean}} = Mean[T=DT_FLOAT, Tidx=DT_INT32, keep_dims=false](r_loss/Square, r_loss/Mean/reduction_indices)' with input shapes: [?,24,24], [3] and with computed input tensors: input[1] = <1 2 3>.\n"
     ]
    }
   ],
   "source": [
    "epochs = 5\n",
    "\n",
    "initial_epoch = 0\n",
    "lr_decay = 1\n",
    "\n",
    "lr_sched = step_decay_schedule(initial_lr=ctx.learning_rate,\n",
    "                               decay_factor=ctx.lr_decay,\n",
    "                               step_size=1)\n",
    "\n",
    "callbacks_list = [lr_sched]\n",
    "\n",
    "model.fit(X_train_flat_float,\n",
    "          X_train_flat_float,\n",
    "          batch_size = ctx.batch_size,\n",
    "          shuffle = True,\n",
    "          epochs = epochs,\n",
    "          initial_epoch = initial_epoch)"
   ]
  },
  {
   "cell_type": "code",
   "execution_count": 58,
   "id": "bb2a5477",
   "metadata": {},
   "outputs": [],
   "source": [
    "from keras import layers"
   ]
  },
  {
   "cell_type": "code",
   "execution_count": 241,
   "id": "4b80cf74",
   "metadata": {},
   "outputs": [],
   "source": [
    "\n",
    "# This is the size of our encoded representations\n",
    "encoding_dim = 8  # 32 floats -> compression of factor 24.5, assuming the input is 784 floats\n",
    "L = 576\n",
    "# This is our input image\n",
    "input_img = Input(shape=(L,))\n",
    "# \"encoded\" is the encoded representation of the input\n",
    "encoded = layers.Dense(encoding_dim, activation='relu')(input_img)\n",
    "# \"decoded\" is the lossy reconstruction of the input\n",
    "decoded = layers.Dense(L, activation='sigmoid')(encoded)\n",
    "\n",
    "# This model maps an input to its reconstruction\n",
    "autoencoder = Model(input_img, decoded)"
   ]
  },
  {
   "cell_type": "code",
   "execution_count": 242,
   "id": "009c137b",
   "metadata": {},
   "outputs": [],
   "source": [
    "# This model maps an input to its encoded representation\n",
    "encoder = Model(input_img, encoded)"
   ]
  },
  {
   "cell_type": "code",
   "execution_count": 243,
   "id": "b0b38c21",
   "metadata": {},
   "outputs": [],
   "source": [
    "# This is our encoded (32-dimensional) input\n",
    "encoded_input = Input(shape=(encoding_dim,))\n",
    "# Retrieve the last layer of the autoencoder model\n",
    "decoder_layer = autoencoder.layers[-1]\n",
    "# Create the decoder model\n",
    "decoder = Model(encoded_input, decoder_layer(encoded_input))"
   ]
  },
  {
   "cell_type": "code",
   "execution_count": 244,
   "id": "ea1e7f65",
   "metadata": {},
   "outputs": [],
   "source": [
    "autoencoder.compile(optimizer='adam', loss='binary_crossentropy')"
   ]
  },
  {
   "cell_type": "code",
   "execution_count": 245,
   "id": "bdcb96df",
   "metadata": {},
   "outputs": [
    {
     "data": {
      "text/plain": [
       "((9000, 576), (1000, 576))"
      ]
     },
     "execution_count": 245,
     "metadata": {},
     "output_type": "execute_result"
    }
   ],
   "source": [
    "x_train = X_train_flat_float.reshape((len(X_train_flat_float), np.prod(X_train_flat_float.shape[1:])))\n",
    "x_test = X_test_flat_float.reshape((len(X_test_flat_float), np.prod(X_test_flat_float.shape[1:])))\n",
    "(x_train.shape, x_test.shape)"
   ]
  },
  {
   "cell_type": "code",
   "execution_count": 247,
   "id": "5df90266",
   "metadata": {},
   "outputs": [
    {
     "name": "stdout",
     "output_type": "stream",
     "text": [
      "Epoch 1/200\n",
      "36/36 [==============================] - 0s 14ms/step - loss: 0.2033 - val_loss: 0.1978\n",
      "Epoch 2/200\n",
      "36/36 [==============================] - 0s 11ms/step - loss: 0.1911 - val_loss: 0.1883\n",
      "Epoch 3/200\n",
      "36/36 [==============================] - 0s 10ms/step - loss: 0.1822 - val_loss: 0.1810\n",
      "Epoch 4/200\n",
      "36/36 [==============================] - 1s 20ms/step - loss: 0.1752 - val_loss: 0.1751\n",
      "Epoch 5/200\n",
      "36/36 [==============================] - 0s 13ms/step - loss: 0.1694 - val_loss: 0.1699\n",
      "Epoch 6/200\n",
      "36/36 [==============================] - 1s 14ms/step - loss: 0.1646 - val_loss: 0.1656\n",
      "Epoch 7/200\n",
      "36/36 [==============================] - 0s 12ms/step - loss: 0.1603 - val_loss: 0.1617\n",
      "Epoch 8/200\n",
      "36/36 [==============================] - 0s 13ms/step - loss: 0.1566 - val_loss: 0.1581\n",
      "Epoch 9/200\n",
      "36/36 [==============================] - 0s 11ms/step - loss: 0.1531 - val_loss: 0.1548\n",
      "Epoch 10/200\n",
      "36/36 [==============================] - 0s 10ms/step - loss: 0.1499 - val_loss: 0.1517\n",
      "Epoch 11/200\n",
      "36/36 [==============================] - 0s 11ms/step - loss: 0.1470 - val_loss: 0.1491\n",
      "Epoch 12/200\n",
      "36/36 [==============================] - 0s 12ms/step - loss: 0.1442 - val_loss: 0.1464\n",
      "Epoch 13/200\n",
      "36/36 [==============================] - 0s 13ms/step - loss: 0.1417 - val_loss: 0.1441\n",
      "Epoch 14/200\n",
      "36/36 [==============================] - 0s 13ms/step - loss: 0.1392 - val_loss: 0.1417\n",
      "Epoch 15/200\n",
      "36/36 [==============================] - 0s 13ms/step - loss: 0.1369 - val_loss: 0.1396\n",
      "Epoch 16/200\n",
      "36/36 [==============================] - 0s 12ms/step - loss: 0.1347 - val_loss: 0.1376\n",
      "Epoch 17/200\n",
      "36/36 [==============================] - 0s 11ms/step - loss: 0.1327 - val_loss: 0.1356\n",
      "Epoch 18/200\n",
      "36/36 [==============================] - 0s 10ms/step - loss: 0.1306 - val_loss: 0.1337\n",
      "Epoch 19/200\n",
      "36/36 [==============================] - 0s 11ms/step - loss: 0.1287 - val_loss: 0.1318\n",
      "Epoch 20/200\n",
      "36/36 [==============================] - 0s 13ms/step - loss: 0.1268 - val_loss: 0.1300\n",
      "Epoch 21/200\n",
      "36/36 [==============================] - 0s 10ms/step - loss: 0.1249 - val_loss: 0.1281\n",
      "Epoch 22/200\n",
      "36/36 [==============================] - 1s 15ms/step - loss: 0.1229 - val_loss: 0.1262\n",
      "Epoch 23/200\n",
      "36/36 [==============================] - 0s 11ms/step - loss: 0.1210 - val_loss: 0.1242\n",
      "Epoch 24/200\n",
      "36/36 [==============================] - 0s 13ms/step - loss: 0.1190 - val_loss: 0.1223\n",
      "Epoch 25/200\n",
      "36/36 [==============================] - 0s 11ms/step - loss: 0.1171 - val_loss: 0.1203\n",
      "Epoch 26/200\n",
      "36/36 [==============================] - 0s 11ms/step - loss: 0.1150 - val_loss: 0.1183\n",
      "Epoch 27/200\n",
      "36/36 [==============================] - 0s 10ms/step - loss: 0.1131 - val_loss: 0.1163\n",
      "Epoch 28/200\n",
      "36/36 [==============================] - 0s 13ms/step - loss: 0.1111 - val_loss: 0.1144\n",
      "Epoch 29/200\n",
      "36/36 [==============================] - 1s 15ms/step - loss: 0.1093 - val_loss: 0.1126\n",
      "Epoch 30/200\n",
      "36/36 [==============================] - 1s 14ms/step - loss: 0.1076 - val_loss: 0.1111\n",
      "Epoch 31/200\n",
      "36/36 [==============================] - 0s 10ms/step - loss: 0.1061 - val_loss: 0.1095\n",
      "Epoch 32/200\n",
      "36/36 [==============================] - 0s 14ms/step - loss: 0.1047 - val_loss: 0.1082\n",
      "Epoch 33/200\n",
      "36/36 [==============================] - 0s 13ms/step - loss: 0.1034 - val_loss: 0.1070\n",
      "Epoch 34/200\n",
      "36/36 [==============================] - 0s 11ms/step - loss: 0.1021 - val_loss: 0.1059\n",
      "Epoch 35/200\n",
      "36/36 [==============================] - 0s 11ms/step - loss: 0.1010 - val_loss: 0.1049\n",
      "Epoch 36/200\n",
      "36/36 [==============================] - 0s 12ms/step - loss: 0.1000 - val_loss: 0.1038\n",
      "Epoch 37/200\n",
      "36/36 [==============================] - 0s 12ms/step - loss: 0.0990 - val_loss: 0.1029\n",
      "Epoch 38/200\n",
      "36/36 [==============================] - 0s 14ms/step - loss: 0.0981 - val_loss: 0.1020\n",
      "Epoch 39/200\n",
      "36/36 [==============================] - 1s 15ms/step - loss: 0.0973 - val_loss: 0.1012\n",
      "Epoch 40/200\n",
      "36/36 [==============================] - 0s 13ms/step - loss: 0.0965 - val_loss: 0.1005\n",
      "Epoch 41/200\n",
      "36/36 [==============================] - 0s 12ms/step - loss: 0.0958 - val_loss: 0.0998\n",
      "Epoch 42/200\n",
      "36/36 [==============================] - 0s 13ms/step - loss: 0.0951 - val_loss: 0.0991\n",
      "Epoch 43/200\n",
      "36/36 [==============================] - 0s 13ms/step - loss: 0.0945 - val_loss: 0.0985\n",
      "Epoch 44/200\n",
      "36/36 [==============================] - 0s 9ms/step - loss: 0.0939 - val_loss: 0.0979\n",
      "Epoch 45/200\n",
      "36/36 [==============================] - 0s 13ms/step - loss: 0.0934 - val_loss: 0.0974\n",
      "Epoch 46/200\n",
      "36/36 [==============================] - 1s 20ms/step - loss: 0.0928 - val_loss: 0.0969\n",
      "Epoch 47/200\n",
      "36/36 [==============================] - 1s 19ms/step - loss: 0.0923 - val_loss: 0.0964\n",
      "Epoch 48/200\n",
      "36/36 [==============================] - 0s 10ms/step - loss: 0.0919 - val_loss: 0.0960\n",
      "Epoch 49/200\n",
      "36/36 [==============================] - 1s 16ms/step - loss: 0.0915 - val_loss: 0.0956\n",
      "Epoch 50/200\n",
      "36/36 [==============================] - 1s 15ms/step - loss: 0.0911 - val_loss: 0.0952\n",
      "Epoch 51/200\n",
      "36/36 [==============================] - 1s 14ms/step - loss: 0.0907 - val_loss: 0.0948\n",
      "Epoch 52/200\n",
      "36/36 [==============================] - 1s 18ms/step - loss: 0.0904 - val_loss: 0.0945\n",
      "Epoch 53/200\n",
      "36/36 [==============================] - 1s 16ms/step - loss: 0.0900 - val_loss: 0.0942\n",
      "Epoch 54/200\n",
      "36/36 [==============================] - 0s 13ms/step - loss: 0.0897 - val_loss: 0.0939\n",
      "Epoch 55/200\n",
      "36/36 [==============================] - 0s 12ms/step - loss: 0.0895 - val_loss: 0.0937\n",
      "Epoch 56/200\n",
      "36/36 [==============================] - 1s 16ms/step - loss: 0.0892 - val_loss: 0.0934\n",
      "Epoch 57/200\n",
      "36/36 [==============================] - 0s 11ms/step - loss: 0.0889 - val_loss: 0.0931\n",
      "Epoch 58/200\n",
      "36/36 [==============================] - 0s 12ms/step - loss: 0.0887 - val_loss: 0.0929\n",
      "Epoch 59/200\n",
      "36/36 [==============================] - 1s 15ms/step - loss: 0.0885 - val_loss: 0.0927\n",
      "Epoch 60/200\n",
      "36/36 [==============================] - 1s 19ms/step - loss: 0.0883 - val_loss: 0.0925\n",
      "Epoch 61/200\n",
      "36/36 [==============================] - 1s 17ms/step - loss: 0.0881 - val_loss: 0.0923\n",
      "Epoch 62/200\n",
      "36/36 [==============================] - 1s 14ms/step - loss: 0.0879 - val_loss: 0.0921\n",
      "Epoch 63/200\n",
      "36/36 [==============================] - 0s 12ms/step - loss: 0.0877 - val_loss: 0.0919\n",
      "Epoch 64/200\n",
      "36/36 [==============================] - 1s 15ms/step - loss: 0.0875 - val_loss: 0.0918\n",
      "Epoch 65/200\n",
      "36/36 [==============================] - 1s 16ms/step - loss: 0.0873 - val_loss: 0.0916\n",
      "Epoch 66/200\n",
      "36/36 [==============================] - 0s 13ms/step - loss: 0.0872 - val_loss: 0.0915\n",
      "Epoch 67/200\n",
      "36/36 [==============================] - 0s 13ms/step - loss: 0.0870 - val_loss: 0.0913\n",
      "Epoch 68/200\n",
      "36/36 [==============================] - 1s 16ms/step - loss: 0.0868 - val_loss: 0.0912\n",
      "Epoch 69/200\n",
      "36/36 [==============================] - 0s 10ms/step - loss: 0.0867 - val_loss: 0.0910\n",
      "Epoch 70/200\n",
      "36/36 [==============================] - 0s 13ms/step - loss: 0.0866 - val_loss: 0.0909\n",
      "Epoch 71/200\n",
      "36/36 [==============================] - 0s 13ms/step - loss: 0.0864 - val_loss: 0.0908\n",
      "Epoch 72/200\n",
      "36/36 [==============================] - 0s 11ms/step - loss: 0.0863 - val_loss: 0.0906\n",
      "Epoch 73/200\n",
      "36/36 [==============================] - 0s 13ms/step - loss: 0.0862 - val_loss: 0.0905\n",
      "Epoch 74/200\n",
      "36/36 [==============================] - 0s 12ms/step - loss: 0.0860 - val_loss: 0.0904\n",
      "Epoch 75/200\n",
      "36/36 [==============================] - 0s 13ms/step - loss: 0.0859 - val_loss: 0.0903\n",
      "Epoch 76/200\n",
      "36/36 [==============================] - 0s 13ms/step - loss: 0.0858 - val_loss: 0.0902\n",
      "Epoch 77/200\n",
      "36/36 [==============================] - 0s 12ms/step - loss: 0.0857 - val_loss: 0.0901\n",
      "Epoch 78/200\n",
      "36/36 [==============================] - 0s 12ms/step - loss: 0.0856 - val_loss: 0.0900\n",
      "Epoch 79/200\n",
      "36/36 [==============================] - 0s 14ms/step - loss: 0.0855 - val_loss: 0.0898\n",
      "Epoch 80/200\n",
      "36/36 [==============================] - 0s 11ms/step - loss: 0.0853 - val_loss: 0.0897\n",
      "Epoch 81/200\n",
      "36/36 [==============================] - 0s 10ms/step - loss: 0.0852 - val_loss: 0.0896\n",
      "Epoch 82/200\n"
     ]
    },
    {
     "name": "stdout",
     "output_type": "stream",
     "text": [
      "36/36 [==============================] - 0s 12ms/step - loss: 0.0851 - val_loss: 0.0896\n",
      "Epoch 83/200\n",
      "36/36 [==============================] - 0s 11ms/step - loss: 0.0850 - val_loss: 0.0895\n",
      "Epoch 84/200\n",
      "36/36 [==============================] - 0s 11ms/step - loss: 0.0849 - val_loss: 0.0894\n",
      "Epoch 85/200\n",
      "36/36 [==============================] - 0s 12ms/step - loss: 0.0848 - val_loss: 0.0893\n",
      "Epoch 86/200\n",
      "36/36 [==============================] - 0s 13ms/step - loss: 0.0848 - val_loss: 0.0892\n",
      "Epoch 87/200\n",
      "36/36 [==============================] - 0s 12ms/step - loss: 0.0847 - val_loss: 0.0891\n",
      "Epoch 88/200\n",
      "36/36 [==============================] - 0s 10ms/step - loss: 0.0846 - val_loss: 0.0890\n",
      "Epoch 89/200\n",
      "36/36 [==============================] - 0s 12ms/step - loss: 0.0845 - val_loss: 0.0889\n",
      "Epoch 90/200\n",
      "36/36 [==============================] - 0s 11ms/step - loss: 0.0844 - val_loss: 0.0888\n",
      "Epoch 91/200\n",
      "36/36 [==============================] - 0s 11ms/step - loss: 0.0843 - val_loss: 0.0888\n",
      "Epoch 92/200\n",
      "36/36 [==============================] - 0s 13ms/step - loss: 0.0842 - val_loss: 0.0887\n",
      "Epoch 93/200\n",
      "36/36 [==============================] - 0s 12ms/step - loss: 0.0842 - val_loss: 0.0886\n",
      "Epoch 94/200\n",
      "36/36 [==============================] - 0s 9ms/step - loss: 0.0841 - val_loss: 0.0885\n",
      "Epoch 95/200\n",
      "36/36 [==============================] - 0s 11ms/step - loss: 0.0840 - val_loss: 0.0885\n",
      "Epoch 96/200\n",
      "36/36 [==============================] - 0s 12ms/step - loss: 0.0839 - val_loss: 0.0884\n",
      "Epoch 97/200\n",
      "36/36 [==============================] - 0s 14ms/step - loss: 0.0839 - val_loss: 0.0883\n",
      "Epoch 98/200\n",
      "36/36 [==============================] - 0s 9ms/step - loss: 0.0838 - val_loss: 0.0883\n",
      "Epoch 99/200\n",
      "36/36 [==============================] - 0s 13ms/step - loss: 0.0837 - val_loss: 0.0882\n",
      "Epoch 100/200\n",
      "36/36 [==============================] - 0s 14ms/step - loss: 0.0837 - val_loss: 0.0881\n",
      "Epoch 101/200\n",
      "36/36 [==============================] - 0s 10ms/step - loss: 0.0836 - val_loss: 0.0881\n",
      "Epoch 102/200\n",
      "36/36 [==============================] - 0s 11ms/step - loss: 0.0835 - val_loss: 0.0880\n",
      "Epoch 103/200\n",
      "36/36 [==============================] - 0s 12ms/step - loss: 0.0835 - val_loss: 0.0880\n",
      "Epoch 104/200\n",
      "36/36 [==============================] - 0s 12ms/step - loss: 0.0834 - val_loss: 0.0879\n",
      "Epoch 105/200\n",
      "36/36 [==============================] - 0s 12ms/step - loss: 0.0834 - val_loss: 0.0878\n",
      "Epoch 106/200\n",
      "36/36 [==============================] - 0s 10ms/step - loss: 0.0833 - val_loss: 0.0878\n",
      "Epoch 107/200\n",
      "36/36 [==============================] - 0s 10ms/step - loss: 0.0832 - val_loss: 0.0877\n",
      "Epoch 108/200\n",
      "36/36 [==============================] - 0s 11ms/step - loss: 0.0832 - val_loss: 0.0877\n",
      "Epoch 109/200\n",
      "36/36 [==============================] - 0s 11ms/step - loss: 0.0831 - val_loss: 0.0876\n",
      "Epoch 110/200\n",
      "36/36 [==============================] - 0s 13ms/step - loss: 0.0831 - val_loss: 0.0876\n",
      "Epoch 111/200\n",
      "36/36 [==============================] - 0s 12ms/step - loss: 0.0830 - val_loss: 0.0875\n",
      "Epoch 112/200\n",
      "36/36 [==============================] - 0s 12ms/step - loss: 0.0830 - val_loss: 0.0875\n",
      "Epoch 113/200\n",
      "36/36 [==============================] - 0s 12ms/step - loss: 0.0829 - val_loss: 0.0874\n",
      "Epoch 114/200\n",
      "36/36 [==============================] - 0s 12ms/step - loss: 0.0829 - val_loss: 0.0874\n",
      "Epoch 115/200\n",
      "36/36 [==============================] - 0s 13ms/step - loss: 0.0828 - val_loss: 0.0873\n",
      "Epoch 116/200\n",
      "36/36 [==============================] - 0s 11ms/step - loss: 0.0828 - val_loss: 0.0873\n",
      "Epoch 117/200\n",
      "36/36 [==============================] - 0s 11ms/step - loss: 0.0827 - val_loss: 0.0872\n",
      "Epoch 118/200\n",
      "36/36 [==============================] - 0s 12ms/step - loss: 0.0827 - val_loss: 0.0872\n",
      "Epoch 119/200\n",
      "36/36 [==============================] - 0s 10ms/step - loss: 0.0826 - val_loss: 0.0871\n",
      "Epoch 120/200\n",
      "36/36 [==============================] - 0s 11ms/step - loss: 0.0826 - val_loss: 0.0871\n",
      "Epoch 121/200\n",
      "36/36 [==============================] - 0s 12ms/step - loss: 0.0825 - val_loss: 0.0871\n",
      "Epoch 122/200\n",
      "36/36 [==============================] - 0s 11ms/step - loss: 0.0825 - val_loss: 0.0870\n",
      "Epoch 123/200\n",
      "36/36 [==============================] - 0s 10ms/step - loss: 0.0824 - val_loss: 0.0870\n",
      "Epoch 124/200\n",
      "36/36 [==============================] - 0s 9ms/step - loss: 0.0824 - val_loss: 0.0870\n",
      "Epoch 125/200\n",
      "36/36 [==============================] - 0s 9ms/step - loss: 0.0824 - val_loss: 0.0869\n",
      "Epoch 126/200\n",
      "36/36 [==============================] - 0s 12ms/step - loss: 0.0823 - val_loss: 0.0869\n",
      "Epoch 127/200\n",
      "36/36 [==============================] - 0s 13ms/step - loss: 0.0823 - val_loss: 0.0868\n",
      "Epoch 128/200\n",
      "36/36 [==============================] - 1s 14ms/step - loss: 0.0823 - val_loss: 0.0868\n",
      "Epoch 129/200\n",
      "36/36 [==============================] - 0s 12ms/step - loss: 0.0822 - val_loss: 0.0868\n",
      "Epoch 130/200\n",
      "36/36 [==============================] - 1s 16ms/step - loss: 0.0822 - val_loss: 0.0867\n",
      "Epoch 131/200\n",
      "36/36 [==============================] - 0s 13ms/step - loss: 0.0822 - val_loss: 0.0867\n",
      "Epoch 132/200\n",
      "36/36 [==============================] - 0s 13ms/step - loss: 0.0821 - val_loss: 0.0867\n",
      "Epoch 133/200\n",
      "36/36 [==============================] - 0s 12ms/step - loss: 0.0821 - val_loss: 0.0866\n",
      "Epoch 134/200\n",
      "36/36 [==============================] - 1s 16ms/step - loss: 0.0821 - val_loss: 0.0866\n",
      "Epoch 135/200\n",
      "36/36 [==============================] - 0s 12ms/step - loss: 0.0821 - val_loss: 0.0866\n",
      "Epoch 136/200\n",
      "36/36 [==============================] - 1s 17ms/step - loss: 0.0820 - val_loss: 0.0866\n",
      "Epoch 137/200\n",
      "36/36 [==============================] - 1s 14ms/step - loss: 0.0820 - val_loss: 0.0865\n",
      "Epoch 138/200\n",
      "36/36 [==============================] - 1s 14ms/step - loss: 0.0820 - val_loss: 0.0865\n",
      "Epoch 139/200\n",
      "36/36 [==============================] - 0s 12ms/step - loss: 0.0819 - val_loss: 0.0865\n",
      "Epoch 140/200\n",
      "36/36 [==============================] - 0s 13ms/step - loss: 0.0819 - val_loss: 0.0865\n",
      "Epoch 141/200\n",
      "36/36 [==============================] - 0s 12ms/step - loss: 0.0819 - val_loss: 0.0864\n",
      "Epoch 142/200\n",
      "36/36 [==============================] - 1s 15ms/step - loss: 0.0819 - val_loss: 0.0864\n",
      "Epoch 143/200\n",
      "36/36 [==============================] - 0s 12ms/step - loss: 0.0818 - val_loss: 0.0864\n",
      "Epoch 144/200\n",
      "36/36 [==============================] - 0s 13ms/step - loss: 0.0818 - val_loss: 0.0864\n",
      "Epoch 145/200\n",
      "36/36 [==============================] - 0s 13ms/step - loss: 0.0818 - val_loss: 0.0863\n",
      "Epoch 146/200\n",
      "36/36 [==============================] - 1s 16ms/step - loss: 0.0818 - val_loss: 0.0863\n",
      "Epoch 147/200\n",
      "36/36 [==============================] - 0s 13ms/step - loss: 0.0817 - val_loss: 0.0863\n",
      "Epoch 148/200\n",
      "36/36 [==============================] - 1s 14ms/step - loss: 0.0817 - val_loss: 0.0863\n",
      "Epoch 149/200\n",
      "36/36 [==============================] - 1s 14ms/step - loss: 0.0817 - val_loss: 0.0863\n",
      "Epoch 150/200\n",
      "36/36 [==============================] - 0s 12ms/step - loss: 0.0817 - val_loss: 0.0862\n",
      "Epoch 151/200\n",
      "36/36 [==============================] - 0s 12ms/step - loss: 0.0817 - val_loss: 0.0862\n",
      "Epoch 152/200\n",
      "36/36 [==============================] - 0s 13ms/step - loss: 0.0816 - val_loss: 0.0862\n",
      "Epoch 153/200\n",
      "36/36 [==============================] - 0s 12ms/step - loss: 0.0816 - val_loss: 0.0862\n",
      "Epoch 154/200\n",
      "36/36 [==============================] - 0s 13ms/step - loss: 0.0816 - val_loss: 0.0862\n",
      "Epoch 155/200\n",
      "36/36 [==============================] - 0s 13ms/step - loss: 0.0816 - val_loss: 0.0861\n",
      "Epoch 156/200\n",
      "36/36 [==============================] - 0s 13ms/step - loss: 0.0816 - val_loss: 0.0861\n",
      "Epoch 157/200\n",
      "36/36 [==============================] - 0s 12ms/step - loss: 0.0815 - val_loss: 0.0861\n",
      "Epoch 158/200\n",
      "36/36 [==============================] - 1s 15ms/step - loss: 0.0815 - val_loss: 0.0861\n",
      "Epoch 159/200\n",
      "36/36 [==============================] - 1s 14ms/step - loss: 0.0815 - val_loss: 0.0861\n",
      "Epoch 160/200\n",
      "36/36 [==============================] - 1s 16ms/step - loss: 0.0815 - val_loss: 0.0860\n",
      "Epoch 161/200\n",
      "36/36 [==============================] - 0s 11ms/step - loss: 0.0815 - val_loss: 0.0860\n",
      "Epoch 162/200\n"
     ]
    },
    {
     "name": "stdout",
     "output_type": "stream",
     "text": [
      "36/36 [==============================] - 1s 14ms/step - loss: 0.0815 - val_loss: 0.0860\n",
      "Epoch 163/200\n",
      "36/36 [==============================] - 0s 12ms/step - loss: 0.0814 - val_loss: 0.0860\n",
      "Epoch 164/200\n",
      "36/36 [==============================] - 1s 15ms/step - loss: 0.0814 - val_loss: 0.0860\n",
      "Epoch 165/200\n",
      "36/36 [==============================] - 0s 13ms/step - loss: 0.0814 - val_loss: 0.0859\n",
      "Epoch 166/200\n",
      "36/36 [==============================] - 0s 12ms/step - loss: 0.0814 - val_loss: 0.0859\n",
      "Epoch 167/200\n",
      "36/36 [==============================] - 1s 15ms/step - loss: 0.0814 - val_loss: 0.0859\n",
      "Epoch 168/200\n",
      "36/36 [==============================] - 0s 11ms/step - loss: 0.0814 - val_loss: 0.0859\n",
      "Epoch 169/200\n",
      "36/36 [==============================] - 0s 11ms/step - loss: 0.0813 - val_loss: 0.0859\n",
      "Epoch 170/200\n",
      "36/36 [==============================] - 0s 11ms/step - loss: 0.0813 - val_loss: 0.0859\n",
      "Epoch 171/200\n",
      "36/36 [==============================] - 0s 12ms/step - loss: 0.0813 - val_loss: 0.0858\n",
      "Epoch 172/200\n",
      "36/36 [==============================] - 1s 15ms/step - loss: 0.0813 - val_loss: 0.0858\n",
      "Epoch 173/200\n",
      "36/36 [==============================] - 1s 14ms/step - loss: 0.0813 - val_loss: 0.0858\n",
      "Epoch 174/200\n",
      "36/36 [==============================] - 0s 12ms/step - loss: 0.0813 - val_loss: 0.0858\n",
      "Epoch 175/200\n",
      "36/36 [==============================] - 0s 14ms/step - loss: 0.0813 - val_loss: 0.0858\n",
      "Epoch 176/200\n",
      "36/36 [==============================] - 0s 13ms/step - loss: 0.0812 - val_loss: 0.0858\n",
      "Epoch 177/200\n",
      "36/36 [==============================] - 1s 15ms/step - loss: 0.0812 - val_loss: 0.0857\n",
      "Epoch 178/200\n",
      "36/36 [==============================] - 0s 12ms/step - loss: 0.0812 - val_loss: 0.0857\n",
      "Epoch 179/200\n",
      "36/36 [==============================] - 0s 12ms/step - loss: 0.0812 - val_loss: 0.0857\n",
      "Epoch 180/200\n",
      "36/36 [==============================] - 0s 12ms/step - loss: 0.0812 - val_loss: 0.0857\n",
      "Epoch 181/200\n",
      "36/36 [==============================] - 0s 14ms/step - loss: 0.0812 - val_loss: 0.0857\n",
      "Epoch 182/200\n",
      "36/36 [==============================] - 0s 13ms/step - loss: 0.0812 - val_loss: 0.0857\n",
      "Epoch 183/200\n",
      "36/36 [==============================] - 0s 12ms/step - loss: 0.0811 - val_loss: 0.0857\n",
      "Epoch 184/200\n",
      "36/36 [==============================] - 1s 16ms/step - loss: 0.0811 - val_loss: 0.0856\n",
      "Epoch 185/200\n",
      "36/36 [==============================] - 0s 13ms/step - loss: 0.0811 - val_loss: 0.0856\n",
      "Epoch 186/200\n",
      "36/36 [==============================] - 0s 10ms/step - loss: 0.0811 - val_loss: 0.0856\n",
      "Epoch 187/200\n",
      "36/36 [==============================] - 0s 11ms/step - loss: 0.0811 - val_loss: 0.0856\n",
      "Epoch 188/200\n",
      "36/36 [==============================] - 0s 12ms/step - loss: 0.0811 - val_loss: 0.0856\n",
      "Epoch 189/200\n",
      "36/36 [==============================] - 0s 12ms/step - loss: 0.0811 - val_loss: 0.0856\n",
      "Epoch 190/200\n",
      "36/36 [==============================] - 0s 12ms/step - loss: 0.0811 - val_loss: 0.0855\n",
      "Epoch 191/200\n",
      "36/36 [==============================] - 0s 10ms/step - loss: 0.0810 - val_loss: 0.0855\n",
      "Epoch 192/200\n",
      "36/36 [==============================] - 0s 13ms/step - loss: 0.0810 - val_loss: 0.0855\n",
      "Epoch 193/200\n",
      "36/36 [==============================] - 1s 14ms/step - loss: 0.0810 - val_loss: 0.0855\n",
      "Epoch 194/200\n",
      "36/36 [==============================] - 1s 15ms/step - loss: 0.0810 - val_loss: 0.0855\n",
      "Epoch 195/200\n",
      "36/36 [==============================] - 0s 10ms/step - loss: 0.0810 - val_loss: 0.0855\n",
      "Epoch 196/200\n",
      "36/36 [==============================] - 0s 11ms/step - loss: 0.0810 - val_loss: 0.0855\n",
      "Epoch 197/200\n",
      "36/36 [==============================] - 0s 10ms/step - loss: 0.0810 - val_loss: 0.0854\n",
      "Epoch 198/200\n",
      "36/36 [==============================] - 0s 12ms/step - loss: 0.0810 - val_loss: 0.0854\n",
      "Epoch 199/200\n",
      "36/36 [==============================] - 1s 16ms/step - loss: 0.0809 - val_loss: 0.0854\n",
      "Epoch 200/200\n",
      "36/36 [==============================] - 0s 13ms/step - loss: 0.0809 - val_loss: 0.0854\n"
     ]
    },
    {
     "data": {
      "text/plain": [
       "<tensorflow.python.keras.callbacks.History at 0x7f1009955340>"
      ]
     },
     "execution_count": 247,
     "metadata": {},
     "output_type": "execute_result"
    }
   ],
   "source": [
    "autoencoder.fit(x_train, x_train,\n",
    "                epochs=200,\n",
    "                batch_size=256,\n",
    "                shuffle=True,\n",
    "                validation_data=(x_test, x_test))"
   ]
  },
  {
   "cell_type": "code",
   "execution_count": 248,
   "id": "ad096bb8",
   "metadata": {},
   "outputs": [],
   "source": [
    "encoded_imgs = encoder.predict(x_test)\n",
    "decoded_imgs = decoder.predict(encoded_imgs)"
   ]
  },
  {
   "cell_type": "code",
   "execution_count": 250,
   "id": "e015da14",
   "metadata": {},
   "outputs": [
    {
     "data": {
      "text/plain": [
       "array([1.4041994e+01, 2.1154074e+01, 1.7249212e+01, 4.8714056e+00,\n",
       "       5.6191235e+01, 1.4070480e+02, 1.9262086e+03, 2.0370775e+03,\n",
       "       1.0633215e+03, 1.2425227e+03, 2.0326396e+03, 9.8935016e+02,\n",
       "       1.9111764e+03, 9.6963013e+02, 1.2591266e+03, 2.2318088e+03,\n",
       "       8.3491150e+02, 1.8765034e+02, 2.4247536e+02, 1.6163735e+04,\n",
       "       8.0074640e+02, 5.7646594e+02, 1.5890747e+01, 1.6485682e+01],\n",
       "      dtype=float32)"
      ]
     },
     "execution_count": 250,
     "metadata": {},
     "output_type": "execute_result"
    }
   ],
   "source": [
    "(decoded_imgs[0].reshape(24,24)* 255)[12] * 255\n"
   ]
  },
  {
   "cell_type": "code",
   "execution_count": 251,
   "id": "50232868",
   "metadata": {},
   "outputs": [
    {
     "data": {
      "image/png": "[encoded data removed]",
      "text/plain": [
       "<Figure size 2000x400 with 20 Axes>"
      ]
     },
     "metadata": {},
     "output_type": "display_data"
    }
   ],
   "source": [
    "n = 10  # How many digits we will display\n",
    "plt.figure(figsize=(20, 4))\n",
    "for i in range(n):\n",
    "    # Display original\n",
    "    ax = plt.subplot(2, n, i + 1)\n",
    "    plt.imshow(x_test[i].reshape(24, 24))\n",
    "    plt.gray()\n",
    "    ax.get_xaxis().set_visible(False)\n",
    "    ax.get_yaxis().set_visible(False)\n",
    "\n",
    "    # Display reconstruction\n",
    "    ax = plt.subplot(2, n, i + 1 + n)\n",
    "    plt.imshow(decoded_imgs[i].reshape(24, 24))\n",
    "    plt.gray()\n",
    "    ax.get_xaxis().set_visible(False)\n",
    "    ax.get_yaxis().set_visible(False)\n",
    "plt.show()"
   ]
  }
 ],
 "metadata": {
  "kernelspec": {
   "display_name": "Python 3 (ipykernel)",
   "language": "python",
   "name": "python3"
  },
  "language_info": {
   "codemirror_mode": {
    "name": "ipython",
    "version": 3
   },
   "file_extension": ".py",
   "mimetype": "text/x-python",
   "name": "python",
   "nbconvert_exporter": "python",
   "pygments_lexer": "ipython3",
   "version": "3.9.7"
  }
 },
 "nbformat": 4,
 "nbformat_minor": 5
}
